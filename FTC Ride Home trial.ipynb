{
 "cells": [
  {
   "cell_type": "code",
   "execution_count": 1,
   "metadata": {},
   "outputs": [],
   "source": [
    "##Load metadata from file\n",
    "\n",
    "import ast\n",
    "\n",
    "d = {}\n",
    "nary = {}\n",
    "with open(\"metadata_trial4.txt\", 'r') as f:\n",
    "    for line in f:\n",
    "        d = (ast.literal_eval(line))\n",
    "        nary.update({d['id'] : d})"
   ]
  },
  {
   "cell_type": "code",
   "execution_count": 2,
   "metadata": {},
   "outputs": [],
   "source": [
    "#Filter terms that have children and aspect\n",
    "\n",
    "filnary = {}\n",
    "kilnary = {}\n",
    "nochild = {}\n",
    "\n",
    "for key, value in nary.items():\n",
    "    if value.get('children') != None:\n",
    "        filnary = ({'id' : value['id'], 'children' : value['children']})\n",
    "        kilnary.update({key : filnary})\n",
    "    else:\n",
    "        filnary = ({'id' : value['id'],})\n",
    "        nochild.update({key : filnary})"
   ]
  },
  {
   "cell_type": "code",
   "execution_count": 3,
   "metadata": {},
   "outputs": [],
   "source": [
    "#get parents\n",
    "\n",
    "for key, value in kilnary.items():\n",
    "    for item in value['children']:\n",
    "        if nary[item['id']].get('parent') == None:\n",
    "            nary[item['id']]['parent'] = []\n",
    "            nary[item['id']]['parent'].append({'id' : key, 'relation' : item['relation']})\n",
    "        else:\n",
    "            nary[item['id']]['parent'].append({'id' : key, 'relation' : item['relation']})\n",
    "            \n",
    "for key, value in nary.items():\n",
    "    if value.get('parent') == None:\n",
    "        value['parent'] = []"
   ]
  },
  {
   "cell_type": "code",
   "execution_count": 4,
   "metadata": {},
   "outputs": [],
   "source": [
    "#empty children class for nochilds\n",
    "\n",
    "for key, value in nary.items():\n",
    "    if value.get('children') == None:\n",
    "        value['children'] = []"
   ]
  },
  {
   "cell_type": "code",
   "execution_count": 5,
   "metadata": {},
   "outputs": [],
   "source": [
    "#get rid of the two motherfuckers\n",
    "\n",
    "for k,v in nary.items():\n",
    "    for item in v['parent']:\n",
    "        for item2 in v['children']:\n",
    "            if item == item2:\n",
    "                del(v['parent'][v['parent'].index(item)])\n",
    "                del(v['children'][v['children'].index(item)])"
   ]
  },
  {
   "cell_type": "code",
   "execution_count": 6,
   "metadata": {},
   "outputs": [
    {
     "name": "stderr",
     "output_type": "stream",
     "text": [
      "* Owlready2 * Warning: optimized Cython parser module 'owlready2_optimized' is not available, defaulting to slower Python implementation\n"
     ]
    }
   ],
   "source": [
    "#import owlready2\n",
    "\n",
    "import types\n",
    "from owlready2 import *\n",
    "onto = get_ontology(\"http://test.org/onto.owl\")"
   ]
  },
  {
   "cell_type": "code",
   "execution_count": 7,
   "metadata": {},
   "outputs": [],
   "source": [
    "#define core classes\n",
    "\n",
    "with onto:\n",
    "    class therapeutic_agent(Thing):\n",
    "        namespace = onto\n",
    "    class biological_process_main(Thing):\n",
    "        namespace = onto\n",
    "    class molecular_function_main(Thing):\n",
    "        namespace = onto\n",
    "    class drug(Thing):\n",
    "        namespace = onto"
   ]
  },
  {
   "cell_type": "code",
   "execution_count": 8,
   "metadata": {},
   "outputs": [],
   "source": [
    "for key, value in nary.items():\n",
    "    if value['parent'] == [] and value['aspect'] == 'biological_process':\n",
    "        with onto:\n",
    "            nc = types.new_class(key, (biological_process_main,))\n",
    "    if value['parent'] == [] and value['aspect'] == 'molecular_function':\n",
    "        with onto:\n",
    "            nc = types.new_class(key, (molecular_function_main,))"
   ]
  },
  {
   "cell_type": "code",
   "execution_count": 9,
   "metadata": {},
   "outputs": [],
   "source": [
    "a = list(onto.classes())[4:]"
   ]
  },
  {
   "cell_type": "code",
   "execution_count": 10,
   "metadata": {
    "scrolled": true
   },
   "outputs": [],
   "source": [
    "l = []\n",
    "for key, value in nary.items():\n",
    "    if value['parent'] == [] and value['children'] != []:\n",
    "        for item in value['children']:\n",
    "            if item['relation'] == 'is_a':\n",
    "                l.append([item['id'], key])"
   ]
  },
  {
   "cell_type": "code",
   "execution_count": 30,
   "metadata": {},
   "outputs": [
    {
     "data": {
      "text/plain": [
       "onto.GO:0003674"
      ]
     },
     "execution_count": 30,
     "metadata": {},
     "output_type": "execute_result"
    }
   ],
   "source": [
    "a[0]"
   ]
  },
  {
   "cell_type": "code",
   "execution_count": 23,
   "metadata": {},
   "outputs": [],
   "source": [
    "nc = types.new_class('xyz', (a[0],))"
   ]
  },
  {
   "cell_type": "code",
   "execution_count": 35,
   "metadata": {},
   "outputs": [
    {
     "data": {
      "text/plain": [
       "2475"
      ]
     },
     "execution_count": 35,
     "metadata": {},
     "output_type": "execute_result"
    }
   ],
   "source": [
    "len(a)"
   ]
  },
  {
   "cell_type": "code",
   "execution_count": 32,
   "metadata": {
    "scrolled": true
   },
   "outputs": [
    {
     "ename": "IndexError",
     "evalue": "list index out of range",
     "output_type": "error",
     "traceback": [
      "\u001b[0;31m---------------------------------------------------------------------------\u001b[0m",
      "\u001b[0;31mIndexError\u001b[0m                                Traceback (most recent call last)",
      "\u001b[0;32m<ipython-input-32-554a5bd8006d>\u001b[0m in \u001b[0;36m<module>\u001b[0;34m\u001b[0m\n\u001b[1;32m      2\u001b[0m \u001b[0;32mfor\u001b[0m \u001b[0mi\u001b[0m \u001b[0;32min\u001b[0m \u001b[0ml\u001b[0m\u001b[0;34m:\u001b[0m\u001b[0;34m\u001b[0m\u001b[0;34m\u001b[0m\u001b[0m\n\u001b[1;32m      3\u001b[0m     \u001b[0;32mwith\u001b[0m \u001b[0monto\u001b[0m\u001b[0;34m:\u001b[0m\u001b[0;34m\u001b[0m\u001b[0;34m\u001b[0m\u001b[0m\n\u001b[0;32m----> 4\u001b[0;31m         \u001b[0mnc\u001b[0m \u001b[0;34m=\u001b[0m \u001b[0mtypes\u001b[0m\u001b[0;34m.\u001b[0m\u001b[0mnew_class\u001b[0m\u001b[0;34m(\u001b[0m\u001b[0mi\u001b[0m\u001b[0;34m[\u001b[0m\u001b[0;36m0\u001b[0m\u001b[0;34m]\u001b[0m\u001b[0;34m,\u001b[0m \u001b[0;34m(\u001b[0m\u001b[0mgetattr\u001b[0m\u001b[0;34m(\u001b[0m\u001b[0monto\u001b[0m\u001b[0;34m,\u001b[0m \u001b[0mb\u001b[0m\u001b[0;34m[\u001b[0m\u001b[0mc\u001b[0m\u001b[0;34m]\u001b[0m\u001b[0;34m)\u001b[0m\u001b[0;34m,\u001b[0m\u001b[0;34m)\u001b[0m\u001b[0;34m)\u001b[0m\u001b[0;34m\u001b[0m\u001b[0;34m\u001b[0m\u001b[0m\n\u001b[0m\u001b[1;32m      5\u001b[0m     \u001b[0mc\u001b[0m\u001b[0;34m+=\u001b[0m\u001b[0;36m1\u001b[0m\u001b[0;34m\u001b[0m\u001b[0;34m\u001b[0m\u001b[0m\n",
      "\u001b[0;31mIndexError\u001b[0m: list index out of range"
     ]
    }
   ],
   "source": [
    "c = 0\n",
    "for i in l:\n",
    "    with onto:\n",
    "        nc = types.new_class(i[0], (getattr(onto, b[c]),))\n",
    "    c+=1"
   ]
  },
  {
   "cell_type": "code",
   "execution_count": null,
   "metadata": {},
   "outputs": [],
   "source": [
    "list(onto.classes())"
   ]
  }
 ],
 "metadata": {
  "kernelspec": {
   "display_name": "Python 3",
   "language": "python",
   "name": "python3"
  },
  "language_info": {
   "codemirror_mode": {
    "name": "ipython",
    "version": 3
   },
   "file_extension": ".py",
   "mimetype": "text/x-python",
   "name": "python",
   "nbconvert_exporter": "python",
   "pygments_lexer": "ipython3",
   "version": "3.6.8"
  }
 },
 "nbformat": 4,
 "nbformat_minor": 2
}
