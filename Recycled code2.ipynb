{
 "cells": [
  {
   "cell_type": "code",
   "execution_count": 1,
   "metadata": {},
   "outputs": [],
   "source": [
    "##Load metadata from file\n",
    "\n",
    "import ast\n",
    "d = {}\n",
    "nary = {}\n",
    "i=0\n",
    "with open(\"metadata_trial2.txt\") as f:\n",
    "    for line in f:\n",
    "        \n",
    "        d = (ast.literal_eval(line))\n",
    "        nary.update({d['id'] : d})\n",
    "      # (key, val) = line.split()\n",
    "      # d[int(key)] = val"
   ]
  },
  {
   "cell_type": "code",
   "execution_count": 2,
   "metadata": {},
   "outputs": [],
   "source": [
    "#Filter terms that have children and aspect\n",
    "\n",
    "filnary = {}\n",
    "kilnary = {}\n",
    "for key, value in nary.items():\n",
    "    if value.get('children') != None and value.get('aspect') != None:\n",
    "        filnary = ({'id' : value['id'], 'name' : value['name'], 'aspect' : value['aspect'], \n",
    "                    'children' : value['children']})\n",
    "        kilnary.update({key : filnary})"
   ]
  },
  {
   "cell_type": "code",
   "execution_count": 3,
   "metadata": {},
   "outputs": [
    {
     "name": "stderr",
     "output_type": "stream",
     "text": [
      "* Owlready2 * Warning: optimized Cython parser module 'owlready2_optimized' is not available, defaulting to slower Python implementation\n"
     ]
    }
   ],
   "source": [
    "#import owlready2\n",
    "\n",
    "import types\n",
    "from owlready2 import *\n",
    "onto = get_ontology(\"http://test.org/onto.owl\")"
   ]
  },
  {
   "cell_type": "code",
   "execution_count": 4,
   "metadata": {},
   "outputs": [],
   "source": [
    "#define core classes\n",
    "\n",
    "with onto:\n",
    "    class therapeutic_agent(Thing):\n",
    "        namespace = onto"
   ]
  },
  {
   "cell_type": "code",
   "execution_count": 5,
   "metadata": {},
   "outputs": [],
   "source": [
    "#classmaker function to make FTC classes\n",
    "\n",
    "def classmaker(term, parentclass):\n",
    "                classnameA = 'GOA' + str(term)\n",
    "                classnameP = 'GOP' + str(term)\n",
    "                with onto:\n",
    "                    classname = types.new_class(classnameA, (parentclass,))\n",
    "                    classname = types.new_class(classnameP, (parentclass,))\n",
    "                return 0"
   ]
  },
  {
   "cell_type": "code",
   "execution_count": 6,
   "metadata": {},
   "outputs": [],
   "source": [
    "#Using classmaker to make FTC classes\n",
    "\n",
    "for key, value in kilnary.items():\n",
    "    if value['aspect'] == 'biological_process':\n",
    "        for item in value['children']:\n",
    "            term = str(value['id'][3:])\n",
    "            if item['relation'] == 'positively_regulates':\n",
    "                classmaker(term, therapeutic_agent)\n",
    "                classmaker(str(item['id'][3:]), therapeutic_agent)\n",
    "                #print('biological process', value['id'], 'positively regulates', item['id'])\n",
    "            if item['relation'] == 'negatively_regulates':\n",
    "                classmaker(term, therapeutic_agent)\n",
    "                classmaker(str(item['id'][3:]), therapeutic_agent)\n",
    "                #print('biological process', value['id'], 'negatively regulates', item['id'])\n",
    "            if item['relation'] == 'regulates':\n",
    "                classmaker(term, therapeutic_agent)\n",
    "                classmaker(str(item['id'][3:]), therapeutic_agent)\n",
    "                #print('biological process', value['id'], 'regulates', item['id'])\n",
    "                \n",
    "    if value['aspect'] == 'molecular_function':\n",
    "        for item in value['children']:\n",
    "            if item['relation'] == 'positively_regulates':\n",
    "                classmaker(term, therapeutic_agent)\n",
    "                classmaker(str(item['id'][3:]), therapeutic_agent)\n",
    "                #print('molecular function', value['id'], 'positively regulates', item['id'])\n",
    "            if item['relation'] == 'negatively_regulates':\n",
    "                classmaker(term, therapeutic_agent)\n",
    "                classmaker(str(item['id'][3:]), therapeutic_agent)\n",
    "                #print('molecular function', value['id'], 'negatively regulates', item['id'])\n",
    "            if item['relation'] == 'regulates':\n",
    "                classmaker(term, therapeutic_agent)\n",
    "                classmaker(str(item['id'][3:]), therapeutic_agent)\n",
    "                #print('molecular function', value['id'], 'regulates', item['id'])"
   ]
  },
  {
   "cell_type": "code",
   "execution_count": 7,
   "metadata": {},
   "outputs": [],
   "source": [
    "#assign appropriate labels to FTC classes\n",
    "\n",
    "x = list(onto.classes())\n",
    "for y in x:\n",
    "    term = 'GO:' + str(y)[8:]\n",
    "    if str(y)[7] == 'A' and term in kilnary :\n",
    "        y.label = 'anti_' + kilnary[term]['name'] + '_agent'\n",
    "    elif str(y)[7] == 'P' and term in kilnary :\n",
    "        y.label = 'pro_' + kilnary[term]['name'] + '_agent'"
   ]
  },
  {
   "cell_type": "code",
   "execution_count": 8,
   "metadata": {},
   "outputs": [],
   "source": [
    "#list of ids from the created classes in the two text formats\n",
    "\n",
    "ids = []\n",
    "ontoids = []\n",
    "for cl in list(onto.classes()):\n",
    "    cl = str(cl)\n",
    "    ontoids.append(cl)\n",
    "    clt = cl[5:7] +':' + cl[8:]\n",
    "    ids.append(clt)"
   ]
  },
  {
   "cell_type": "code",
   "execution_count": 9,
   "metadata": {},
   "outputs": [],
   "source": [
    "#propertymaker function for making properties\n",
    "\n",
    "def propertymaker(pname, pdomain, prange):\n",
    "    with onto:\n",
    "            classname = types.new_class((pname), (ObjectProperty,), )\n",
    "            classname = types.new_class((pname), (ObjectProperty,)  )\n",
    "    \n",
    "    return 0"
   ]
  },
  {
   "cell_type": "code",
   "execution_count": 10,
   "metadata": {},
   "outputs": [],
   "source": [
    "#dictionary for domain and range of properties\n",
    "\n",
    "domdict = {}\n",
    "randict = {}\n",
    "for key, value in kilnary.items():\n",
    "    for item in value['children']:\n",
    "        if item['id'] in ids:\n",
    "            propertymaker(item['relation'], value['id'], item['id'])\n",
    "            domdict[item['relation']] = []\n",
    "            randict[item['relation']] = []\n",
    "for key, value in kilnary.items():    \n",
    "    for item in value['children']:\n",
    "        if item['id'] in ids and value['id'] in ids:\n",
    "            domdict[item['relation']].append(ontoids[ids.index(value['id'])])\n",
    "            randict[item['relation']].append(ontoids[ids.index(item['id'])])"
   ]
  },
  {
   "cell_type": "code",
   "execution_count": 11,
   "metadata": {},
   "outputs": [],
   "source": [
    "#extracting domains and range as Nonetype objects from respective dictionaries\n",
    "\n",
    "domdictclist = []\n",
    "randictclist = []\n",
    "\n",
    "for key, value in domdict.items():\n",
    "    for item in value:\n",
    "        value[value.index(item)] = getattr(onto, item[5:])\n",
    "        \n",
    "for key, value in randict.items():\n",
    "    for item in value:\n",
    "        value[value.index(item)] = getattr(onto, item[5:])"
   ]
  },
  {
   "cell_type": "code",
   "execution_count": 12,
   "metadata": {},
   "outputs": [],
   "source": [
    "#test dynamic domain assignment, has acted very strangely\n",
    "\n",
    "x = list(onto.object_properties())\n",
    "#for y in x:\n",
    "    #setattr(y, 'domain', [onto.GOA0008150])"
   ]
  },
  {
   "cell_type": "code",
   "execution_count": 13,
   "metadata": {
    "scrolled": true
   },
   "outputs": [],
   "source": [
    "#domain and range assignment to properties\n",
    "\n",
    "x = list(onto.object_properties())\n",
    "for y in x:\n",
    "    ystr = str(y)\n",
    "    ystr = ystr[5:]\n",
    "    setattr(y, 'domain', domdict[ystr])\n",
    "    setattr(y, 'range', randict[ystr])"
   ]
  },
  {
   "cell_type": "code",
   "execution_count": 14,
   "metadata": {},
   "outputs": [],
   "source": [
    "onto.save(file = \"testowl\", format = \"rdfxml\")"
   ]
  },
  {
   "cell_type": "code",
   "execution_count": 15,
   "metadata": {
    "scrolled": false
   },
   "outputs": [
    {
     "data": {
      "text/plain": [
       "[onto.is_a,\n",
       " onto.positively_regulates,\n",
       " onto.negatively_regulates,\n",
       " onto.regulates,\n",
       " onto.part_of,\n",
       " onto.occurs_in]"
      ]
     },
     "execution_count": 15,
     "metadata": {},
     "output_type": "execute_result"
    }
   ],
   "source": [
    "list(onto.object_properties())"
   ]
  },
  {
   "cell_type": "code",
   "execution_count": 19,
   "metadata": {},
   "outputs": [
    {
     "data": {
      "text/plain": [
       "[onto.GOA0007131,\n",
       " onto.GOA0007131,\n",
       " onto.GOA0000070,\n",
       " onto.GOA0000070,\n",
       " onto.GOA0000070,\n",
       " onto.GOA0007052,\n",
       " onto.GOA0000079,\n",
       " onto.GOA0000278,\n",
       " onto.GOA0000278,\n",
       " onto.GOA0000278,\n",
       " onto.GOA0000278,\n",
       " onto.GOA0000278,\n",
       " onto.GOA0000278,\n",
       " onto.GOA0000278,\n",
       " onto.GOA0000278,\n",
       " onto.GOA0000278,\n",
       " onto.GOA0000278,\n",
       " onto.GOA0000278,\n",
       " onto.GOA0000288,\n",
       " onto.GOA0000747,\n",
       " onto.GOA0000749,\n",
       " onto.GOA0000819,\n",
       " onto.GOA0000910,\n",
       " onto.GOA0006383,\n",
       " onto.GOA0001302,\n",
       " onto.GOA0001503,\n",
       " onto.GOA0001525,\n",
       " onto.GOA0001541,\n",
       " onto.GOA0001547,\n",
       " onto.GOA0002040,\n",
       " onto.GOA0002040,\n",
       " onto.GOA0002062,\n",
       " onto.GOA0002063,\n",
       " onto.GOA0060041,\n",
       " onto.GOA0002181,\n",
       " onto.GOA0002181,\n",
       " onto.GOA0002181,\n",
       " onto.GOA0002183,\n",
       " onto.GOA0002353,\n",
       " onto.GOA0002367,\n",
       " onto.GOA0002367,\n",
       " onto.GOA0002377,\n",
       " onto.GOA0002455,\n",
       " onto.GOA0002456,\n",
       " onto.GOA0002510,\n",
       " onto.GOA0002510,\n",
       " onto.GOA0002514,\n",
       " onto.GOA0002526,\n",
       " onto.GOA0002544,\n",
       " onto.GOA0002775,\n",
       " onto.GOA0002775,\n",
       " onto.GOA0002778,\n",
       " onto.GOA0002778,\n",
       " onto.GOA0002781,\n",
       " onto.GOA0002781,\n",
       " onto.GOA0003007,\n",
       " onto.GOA0003129,\n",
       " onto.GOA0003206,\n",
       " onto.GOA0003407,\n",
       " onto.GOA0003413,\n",
       " onto.GOA0006261,\n",
       " onto.GOA0006261,\n",
       " onto.GOA0006302,\n",
       " onto.GOA0006351,\n",
       " onto.GOA0006351,\n",
       " onto.GOA0006351,\n",
       " onto.GOA0006360,\n",
       " onto.GOA0006360,\n",
       " onto.GOA0006360,\n",
       " onto.GOA0006366,\n",
       " onto.GOA0006366,\n",
       " onto.GOA0006366,\n",
       " onto.GOA0006367,\n",
       " onto.GOA0006367,\n",
       " onto.GOA0006412,\n",
       " onto.GOA0006412,\n",
       " onto.GOA0006412,\n",
       " onto.GOA0006413,\n",
       " onto.GOA0006469,\n",
       " onto.GOA0006626,\n",
       " onto.GOA0006897,\n",
       " onto.GOA0016192,\n",
       " onto.GOA0006909,\n",
       " onto.GOA0006909,\n",
       " onto.GOA0006915,\n",
       " onto.GOA0006954,\n",
       " onto.GOA0006954,\n",
       " onto.GOA0006955,\n",
       " onto.GOA0006955,\n",
       " onto.GOA0006955,\n",
       " onto.GOA0006955,\n",
       " onto.GOA0006955,\n",
       " onto.GOA0006955,\n",
       " onto.GOA0006955,\n",
       " onto.GOA0006955,\n",
       " onto.GOA0032933,\n",
       " onto.GOA0006997,\n",
       " onto.GOA0051276,\n",
       " onto.GOA0007005,\n",
       " onto.GOA0042254,\n",
       " onto.GOA0042254,\n",
       " onto.GOA0007098,\n",
       " onto.GOA0007098,\n",
       " onto.GOA0007127,\n",
       " onto.GOA0007127,\n",
       " onto.GOA0007154,\n",
       " onto.GOA0007178,\n",
       " onto.GOA0007249,\n",
       " onto.GOA0007254,\n",
       " onto.GOA0007254,\n",
       " onto.GOA0007259,\n",
       " onto.GOA0007268,\n",
       " onto.GOA0007271,\n",
       " onto.GOA0007275,\n",
       " onto.GOA0007275,\n",
       " onto.GOA0007399,\n",
       " onto.GOA0007409,\n",
       " onto.GOA0007585,\n",
       " onto.GOA0008544,\n",
       " onto.GOA0008585,\n",
       " onto.GOA0097190,\n",
       " onto.GOA0097190,\n",
       " onto.GOA0009101,\n",
       " onto.GOA0009627,\n",
       " onto.GOA0009790,\n",
       " onto.GOA0009908,\n",
       " onto.GOA0009965,\n",
       " onto.GOA0010015,\n",
       " onto.GOA0010016,\n",
       " onto.GOA0010255,\n",
       " onto.GOA0010431,\n",
       " onto.GOA0010466,\n",
       " onto.GOA0010467,\n",
       " onto.GOA0010467,\n",
       " onto.GOA0010467,\n",
       " onto.GOA0010876,\n",
       " onto.GOA0010950,\n",
       " onto.GOA0010951,\n",
       " onto.GOA0010952,\n",
       " onto.GOA0014902]"
      ]
     },
     "execution_count": 19,
     "metadata": {},
     "output_type": "execute_result"
    }
   ],
   "source": [
    "onto.part_of.domain"
   ]
  },
  {
   "cell_type": "code",
   "execution_count": 28,
   "metadata": {},
   "outputs": [
    {
     "name": "stdout",
     "output_type": "stream",
     "text": [
      "onto.goa00081502\n"
     ]
    }
   ],
   "source": [
    "method_to_call = getattr(onto, 'GOA0008150')\n",
    "print(method_to_call())"
   ]
  },
  {
   "cell_type": "code",
   "execution_count": 21,
   "metadata": {
    "scrolled": false
   },
   "outputs": [
    {
     "name": "stdout",
     "output_type": "stream",
     "text": [
      "[onto.GOA0007131]\n"
     ]
    }
   ],
   "source": [
    "onto.GOA0008150.part_of = [onto.GOA0007131]\n",
    "\n",
    "print(onto.GOA0008150.part_of)"
   ]
  },
  {
   "cell_type": "code",
   "execution_count": null,
   "metadata": {},
   "outputs": [],
   "source": [
    " setattr(onto.GOA0008150, 'is_a', [onto.GOA0006412])"
   ]
  },
  {
   "cell_type": "code",
   "execution_count": null,
   "metadata": {},
   "outputs": [],
   "source": [
    "# import time\n",
    "time.sleep(70)\n",
    "print(\"you're good\")\n",
    "j = 45"
   ]
  },
  {
   "cell_type": "code",
   "execution_count": 4,
   "metadata": {},
   "outputs": [
    {
     "name": "stdout",
     "output_type": "stream",
     "text": [
      "45\n"
     ]
    }
   ],
   "source": [
    "print(j)"
   ]
  }
 ],
 "metadata": {
  "kernelspec": {
   "display_name": "Python 3",
   "language": "python",
   "name": "python3"
  },
  "language_info": {
   "codemirror_mode": {
    "name": "ipython",
    "version": 3
   },
   "file_extension": ".py",
   "mimetype": "text/x-python",
   "name": "python",
   "nbconvert_exporter": "python",
   "pygments_lexer": "ipython3",
   "version": "3.6.8"
  }
 },
 "nbformat": 4,
 "nbformat_minor": 2
}
