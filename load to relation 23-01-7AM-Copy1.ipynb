{
 "cells": [
  {
   "cell_type": "code",
   "execution_count": 2,
   "metadata": {
    "scrolled": true
   },
   "outputs": [
    {
     "name": "stderr",
     "output_type": "stream",
     "text": [
      "* Owlready2 * Warning: optimized Cython parser module 'owlready2_optimized' is not available, defaulting to slower Python implementation\n"
     ]
    }
   ],
   "source": [
    "from owlready2 import *\n",
    "\n",
    "onto1 = get_ontology(\"file:///home/michael/Desktop/CrosetWork/t3test2_no_semicolon_G\").load()"
   ]
  },
  {
   "cell_type": "code",
   "execution_count": 3,
   "metadata": {},
   "outputs": [],
   "source": [
    "##Load metadata from file\n",
    "\n",
    "import ast\n",
    "\n",
    "d = {}\n",
    "nary = {}\n",
    "with open(\"metadata_trial4.txt\", 'r') as f:\n",
    "    for line in f:\n",
    "        d = (ast.literal_eval(line))\n",
    "        nary.update({d['id'] : d})"
   ]
  },
  {
   "cell_type": "code",
   "execution_count": null,
   "metadata": {},
   "outputs": [],
   "source": []
  },
  {
   "cell_type": "code",
   "execution_count": 36,
   "metadata": {},
   "outputs": [],
   "source": [
    "#assign appropriate labels to classes\n",
    "\n",
    "x = list(onto1.classes())\n",
    "for y in x:\n",
    "    term = 'GO:' + str(y)[-7:]\n",
    "    if str(y)[-8] == 'G':\n",
    "        y.label = nary[('GO:' + str(y)[-7:])]['name']"
   ]
  },
  {
   "cell_type": "code",
   "execution_count": 46,
   "metadata": {},
   "outputs": [],
   "source": [
    "#list of ids from the created classes in the two text formats\n",
    "\n",
    "ids = []\n",
    "ontoids = []\n",
    "for cl in list(onto1.classes()):\n",
    "    cl = str(cl)\n",
    "    ontoids.append(cl)\n",
    "    clt = 'GO:' + cl[-7:]\n",
    "    ids.append(clt)"
   ]
  },
  {
   "cell_type": "code",
   "execution_count": 40,
   "metadata": {},
   "outputs": [
    {
     "name": "stdout",
     "output_type": "stream",
     "text": [
      "4367\n"
     ]
    }
   ],
   "source": [
    "#empty children class for nochilds\n",
    "\n",
    "for key, value in nary.items():\n",
    "    if value.get('children') == None:\n",
    "        value['children'] = []\n",
    "\n",
    "#remove anything that has no aspect or is not a biological_process or molecular_function\n",
    "\n",
    "c = 0\n",
    "keys = []\n",
    "for key, value in nary.items():\n",
    "    if value.get('aspect') == None:\n",
    "            keys.append(key)\n",
    "            c+=1\n",
    "    elif value['aspect'] != 'biological_process' and value['aspect'] != 'molecular_function':\n",
    "        keys.append(key)\n",
    "        c+=1\n",
    "        \n",
    "print(c)\n",
    "\n",
    "for key, value in nary.items():\n",
    "    for i in value['children']:\n",
    "        if i['id'] in keys:\n",
    "            c+=1\n",
    "        elif value.get('babies') == None:\n",
    "            value['babies'] = []\n",
    "            value['babies'].append(i)\n",
    "        else:\n",
    "            value['babies'].append(i)\n",
    "for i in keys:\n",
    "    del nary[i]"
   ]
  },
  {
   "cell_type": "code",
   "execution_count": 41,
   "metadata": {},
   "outputs": [],
   "source": [
    "#propertymaker function for making properties\n",
    "\n",
    "def propertymaker(pname, pdomain, prange):\n",
    "    with onto1:\n",
    "            classname = types.new_class((pname), (ObjectProperty,), )\n",
    "    return 0"
   ]
  },
  {
   "cell_type": "code",
   "execution_count": 1,
   "metadata": {},
   "outputs": [
    {
     "ename": "NameError",
     "evalue": "name 'nary' is not defined",
     "output_type": "error",
     "traceback": [
      "\u001b[0;31m---------------------------------------------------------------------------\u001b[0m",
      "\u001b[0;31mNameError\u001b[0m                                 Traceback (most recent call last)",
      "\u001b[0;32m<ipython-input-1-7d4a649b528c>\u001b[0m in \u001b[0;36m<module>\u001b[0;34m\u001b[0m\n\u001b[1;32m      7\u001b[0m \u001b[0mnochild\u001b[0m \u001b[0;34m=\u001b[0m \u001b[0;34m{\u001b[0m\u001b[0;34m}\u001b[0m\u001b[0;34m\u001b[0m\u001b[0;34m\u001b[0m\u001b[0m\n\u001b[1;32m      8\u001b[0m \u001b[0;34m\u001b[0m\u001b[0m\n\u001b[0;32m----> 9\u001b[0;31m \u001b[0;32mfor\u001b[0m \u001b[0mkey\u001b[0m\u001b[0;34m,\u001b[0m \u001b[0mvalue\u001b[0m \u001b[0;32min\u001b[0m \u001b[0mnary\u001b[0m\u001b[0;34m.\u001b[0m\u001b[0mitems\u001b[0m\u001b[0;34m(\u001b[0m\u001b[0;34m)\u001b[0m\u001b[0;34m:\u001b[0m\u001b[0;34m\u001b[0m\u001b[0;34m\u001b[0m\u001b[0m\n\u001b[0m\u001b[1;32m     10\u001b[0m     \u001b[0;32mif\u001b[0m \u001b[0mvalue\u001b[0m\u001b[0;34m.\u001b[0m\u001b[0mget\u001b[0m\u001b[0;34m(\u001b[0m\u001b[0;34m'children'\u001b[0m\u001b[0;34m)\u001b[0m \u001b[0;34m!=\u001b[0m \u001b[0;32mNone\u001b[0m\u001b[0;34m:\u001b[0m\u001b[0;34m\u001b[0m\u001b[0;34m\u001b[0m\u001b[0m\n\u001b[1;32m     11\u001b[0m         filnary = ({'id' : value['id'], 'name' : value['name'], 'aspect' : value['aspect'], \n",
      "\u001b[0;31mNameError\u001b[0m: name 'nary' is not defined"
     ]
    }
   ],
   "source": [
    "#parsing biological process and molecular function classes\n",
    "\n",
    "#Filter terms that have children and aspect\n",
    "\n",
    "filnary = {}\n",
    "kilnary = {}\n",
    "nochild = {}\n",
    "\n",
    "for key, value in nary.items():\n",
    "    if value.get('children') != None:\n",
    "        filnary = ({'id' : value['id'], 'name' : value['name'], 'aspect' : value['aspect'], \n",
    "                    'children' : value['children']})\n",
    "        kilnary.update({key : filnary})\n",
    "    else:\n",
    "        filnary = ({'id' : value['id'], 'name' : value['name'], 'aspect' : value['aspect']})\n",
    "        nochild.update({key : filnary})\n",
    "\n",
    "reldict = {}\n",
    "\n",
    "for key, value in kilnary.items():            \n",
    "    for item in value['children']:\n",
    "        if reldict.get(item['relation']) == None:\n",
    "            reldict[item['relation']] = [[],[]]\n",
    "            propertymaker(item['relation'], 'void', 'void')\n",
    "    for item in value['children']:\n",
    "        if item['id'] in ids:\n",
    "            reldict[item['relation']][1].append(ids[ids.index(value['id'])])\n",
    "            reldict[item['relation']][0].append(ids[ids.index(item['id'])])"
   ]
  },
  {
   "cell_type": "code",
   "execution_count": 52,
   "metadata": {},
   "outputs": [],
   "source": [
    "#Making subproperties positively_regulates and negatively_regulates\n",
    "\n",
    "with onto1:\n",
    "    class regulates(ObjectProperty):\n",
    "        pass\n",
    "    class positively_regulates(regulates):\n",
    "        pass\n",
    "    class negatively_regulates(regulates):\n",
    "        pass"
   ]
  },
  {
   "cell_type": "code",
   "execution_count": 53,
   "metadata": {
    "scrolled": true
   },
   "outputs": [],
   "source": [
    "#converting string to object in reldict lists\n",
    "\n",
    "for key, value in reldict.items():\n",
    "    for item in value[0]:\n",
    "        value[0][value[0].index(item)] = getattr(onto1, ('G' + item[-7:]))\n",
    "    for item in value[1]:\n",
    "        value[1][value[1].index(item)] = getattr(onto1, ('G' + item[-7:]))\n"
   ]
  },
  {
   "cell_type": "code",
   "execution_count": null,
   "metadata": {},
   "outputs": [],
   "source": []
  },
  {
   "cell_type": "code",
   "execution_count": 56,
   "metadata": {},
   "outputs": [],
   "source": [
    "#setting relations\n",
    "\n",
    "for key, value in reldict.items():\n",
    "    for item in value[0]:\n",
    "        setattr(item, key, [value[1][value[0].index(item)]])"
   ]
  },
  {
   "cell_type": "code",
   "execution_count": 57,
   "metadata": {},
   "outputs": [],
   "source": [
    "onto1.save(file='t3test2_no_semicolon_G_labelled_related.owl', format = 'rdfxml')"
   ]
  }
 ],
 "metadata": {
  "kernelspec": {
   "display_name": "Python 3",
   "language": "python",
   "name": "python3"
  },
  "language_info": {
   "codemirror_mode": {
    "name": "ipython",
    "version": 3
   },
   "file_extension": ".py",
   "mimetype": "text/x-python",
   "name": "python",
   "nbconvert_exporter": "python",
   "pygments_lexer": "ipython3",
   "version": "3.6.8"
  }
 },
 "nbformat": 4,
 "nbformat_minor": 2
}
