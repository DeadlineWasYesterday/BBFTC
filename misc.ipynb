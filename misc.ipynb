{
 "cells": [
  {
   "cell_type": "markdown",
   "metadata": {},
   "source": [
    "# Checking for misses by ontology downloader"
   ]
  },
  {
   "cell_type": "code",
   "execution_count": 1,
   "metadata": {},
   "outputs": [],
   "source": [
    "with open(\"keys.txt\", \"r\") as file:\n",
    "    x = file.read().splitlines()"
   ]
  },
  {
   "cell_type": "code",
   "execution_count": 2,
   "metadata": {},
   "outputs": [],
   "source": [
    "import ast\n",
    "\n",
    "d = {}\n",
    "nary = {}\n",
    "with open(\"metadata_trial4.txt\", 'r') as f:\n",
    "    for line in f:\n",
    "        d = (ast.literal_eval(line))\n",
    "        nary.update({d['id'] : d})"
   ]
  },
  {
   "cell_type": "code",
   "execution_count": 8,
   "metadata": {},
   "outputs": [
    {
     "name": "stdout",
     "output_type": "stream",
     "text": [
      "3\n"
     ]
    }
   ],
   "source": [
    "\n",
    "c = 0\n",
    "\n",
    "keys = ['GO:0150161', 'GO:0150162', 'GO:0150160']\n",
    "\n",
    "for i in x:\n",
    "    if i not in nary.keys():\n",
    "        keys.append(i)\n",
    "        c+=1\n",
    "        \n",
    "print(len(keys))     "
   ]
  },
  {
   "cell_type": "code",
   "execution_count": 4,
   "metadata": {},
   "outputs": [],
   "source": [
    "from future.standard_library import install_aliases\n",
    "install_aliases()\n",
    "from urllib.request import urlopen\n",
    "import json\n",
    "\n",
    "def get_term(go_id):\n",
    "    \"\"\"\n",
    "        This function retrieves the definition of a given Gene Ontology term,\n",
    "        using EMBL-EBI's QuickGO browser.\n",
    "        Input: go_id - a valid Gene Ontology ID, e.g. GO:0048527.\n",
    "    \"\"\"\n",
    "    quickgo_url = \"https://www.ebi.ac.uk/QuickGO/services/ontology/go/terms/\" + go_id\n",
    "    ret = urlopen(quickgo_url)\n",
    "    \n",
    "    # Check the response\n",
    "    if(ret.getcode() == 200):\n",
    "        term = json.loads(ret.read())\n",
    "        return term['results'][0]\n",
    "    else:\n",
    "        raise ValueError(\"Couldn't receive information from QuickGO. Check GO ID and try again.\")"
   ]
  },
  {
   "cell_type": "code",
   "execution_count": 5,
   "metadata": {},
   "outputs": [],
   "source": [
    "#Updated func, with retrieved keys\n",
    "\n",
    "import time\n",
    "\n",
    "\n",
    "def myfunc(keys, startfrom):\n",
    "    count = startfrom\n",
    "    try:\n",
    "        while (count - 1) < len(keys):\n",
    "            out = get_term(keys[count - 1])\n",
    "            out['id'] = keys[count - 1]\n",
    "            with open(\"metadata_trial4.txt\",\"a\") as file:\n",
    "                print(out, file=file)\n",
    "                \n",
    "                print(\"Ok.\", keys[count - 1], count)\n",
    "            count+=1\n",
    "            \n",
    "\n",
    "    except IndexError:\n",
    "        \n",
    "        print(\"I error. It's all fucked up.\", keys[count - 1], count)\n",
    "        count+=1\n",
    "        myfunc(keys,count)\n",
    "        \n",
    "    except:\n",
    "        time.sleep(15)\n",
    "        print(\"Other error.\", keys[count - 1], count)\n",
    "        myfunc(keys,count)\n",
    "    return count"
   ]
  },
  {
   "cell_type": "code",
   "execution_count": 9,
   "metadata": {
    "scrolled": true
   },
   "outputs": [
    {
     "name": "stdout",
     "output_type": "stream",
     "text": [
      "Ok. GO:0150161 1\n",
      "Ok. GO:0150162 2\n",
      "Ok. GO:0150160 3\n"
     ]
    },
    {
     "data": {
      "text/plain": [
       "4"
      ]
     },
     "execution_count": 9,
     "metadata": {},
     "output_type": "execute_result"
    }
   ],
   "source": [
    "myfunc(keys,1)"
   ]
  },
  {
   "cell_type": "code",
   "execution_count": 7,
   "metadata": {},
   "outputs": [
    {
     "data": {
      "text/plain": [
       "{'id': 'GO:1902496',\n",
       " 'isObsolete': True,\n",
       " 'name': 'obsolete protein binding involved in negative regulation of telomere maintenance via telomerase',\n",
       " 'definition': {'text': 'OBSOLETE. Any protein binding that is involved in negative regulation of telomere maintenance via telomerase.',\n",
       "  'xrefs': [{'dbCode': 'PMID', 'dbId': '24013504'}]},\n",
       " 'comment': 'The reason for obsoletion is that this should be captured as a GO-CAM model.',\n",
       " 'synonyms': [{'name': 'protein binding involved in inhibition of telomere maintenance via telomerase',\n",
       "   'type': 'narrow'},\n",
       "  {'name': 'protein binding involved in downregulation of telomere maintenance via telomerase activity',\n",
       "   'type': 'exact'},\n",
       "  {'name': 'protein binding involved in down regulation of telomere maintenance via telomerase activity',\n",
       "   'type': 'exact'},\n",
       "  {'name': 'protein binding involved in down-regulation of telomere maintenance via telomerase activity',\n",
       "   'type': 'exact'}],\n",
       " 'aspect': 'molecular_function',\n",
       " 'usage': 'Unrestricted'}"
      ]
     },
     "execution_count": 7,
     "metadata": {},
     "output_type": "execute_result"
    }
   ],
   "source": [
    "get_term('GO:1902496')\n"
   ]
  }
 ],
 "metadata": {
  "kernelspec": {
   "display_name": "Python 3",
   "language": "python",
   "name": "python3"
  },
  "language_info": {
   "codemirror_mode": {
    "name": "ipython",
    "version": 3
   },
   "file_extension": ".py",
   "mimetype": "text/x-python",
   "name": "python",
   "nbconvert_exporter": "python",
   "pygments_lexer": "ipython3",
   "version": "3.6.8"
  }
 },
 "nbformat": 4,
 "nbformat_minor": 2
}
