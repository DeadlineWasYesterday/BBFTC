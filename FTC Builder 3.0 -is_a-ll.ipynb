{
 "cells": [
  {
   "cell_type": "code",
   "execution_count": 1,
   "metadata": {
    "scrolled": true
   },
   "outputs": [],
   "source": [
    "##Load metadata from file\n",
    "\n",
    "import ast\n",
    "\n",
    "d = {}\n",
    "nary = {}\n",
    "with open(\"metadata_trial4.txt\", 'r') as f:\n",
    "    for line in f:\n",
    "        d = (ast.literal_eval(line))\n",
    "        nary.update({d['id'] : d})"
   ]
  },
  {
   "cell_type": "code",
   "execution_count": 2,
   "metadata": {},
   "outputs": [],
   "source": [
    "#Filter terms that have children and aspect\n",
    "\n",
    "filnary = {}\n",
    "kilnary = {}\n",
    "nochild = {}\n",
    "\n",
    "for key, value in nary.items():\n",
    "    if value.get('children') != None:\n",
    "        filnary = ({'id' : value['id'], 'children' : value['children']})\n",
    "        kilnary.update({key : filnary})\n",
    "    else:\n",
    "        filnary = ({'id' : value['id'],})\n",
    "        nochild.update({key : filnary})"
   ]
  },
  {
   "cell_type": "code",
   "execution_count": 3,
   "metadata": {
    "scrolled": false
   },
   "outputs": [],
   "source": [
    "#get parents\n",
    "\n",
    "for key, value in kilnary.items():\n",
    "    for item in value['children']:\n",
    "        if nary[item['id']].get('parent') == None:\n",
    "            nary[item['id']]['parent'] = []\n",
    "            nary[item['id']]['parent'].append({'id' : key, 'relation' : item['relation']})\n",
    "        else:\n",
    "            nary[item['id']]['parent'].append({'id' : key, 'relation' : item['relation']})\n",
    "            \n",
    "for key, value in nary.items():\n",
    "    if value.get('parent') == None:\n",
    "        value['parent'] = []"
   ]
  },
  {
   "cell_type": "code",
   "execution_count": 4,
   "metadata": {},
   "outputs": [],
   "source": [
    "#empty children class for nochilds\n",
    "\n",
    "for key, value in nary.items():\n",
    "    if value.get('children') == None:\n",
    "        value['children'] = []"
   ]
  },
  {
   "cell_type": "code",
   "execution_count": 5,
   "metadata": {},
   "outputs": [],
   "source": [
    "#get rid of the two motherfuckers\n",
    "\n",
    "for k,v in nary.items():\n",
    "    for item in v['parent']:\n",
    "        for item2 in v['children']:\n",
    "            if item == item2:\n",
    "                del(v['parent'][v['parent'].index(item)])\n",
    "                del(v['children'][v['children'].index(item)])"
   ]
  },
  {
   "cell_type": "code",
   "execution_count": 6,
   "metadata": {},
   "outputs": [],
   "source": [
    "#hashmap\n",
    "\n",
    "hashmap = {}\n",
    "\n",
    "for key, value in nary.items():\n",
    "    hashmap[key] = False"
   ]
  },
  {
   "cell_type": "code",
   "execution_count": 7,
   "metadata": {
    "scrolled": false
   },
   "outputs": [
    {
     "name": "stderr",
     "output_type": "stream",
     "text": [
      "* Owlready2 * Warning: optimized Cython parser module 'owlready2_optimized' is not available, defaulting to slower Python implementation\n"
     ]
    }
   ],
   "source": [
    "#import owlready2\n",
    "\n",
    "import types\n",
    "from owlready2 import *\n",
    "onto = get_ontology(\"http://test.org/onto.owl\")"
   ]
  },
  {
   "cell_type": "code",
   "execution_count": 10,
   "metadata": {},
   "outputs": [],
   "source": [
    "#define core classes\n",
    "\n",
    "with onto:\n",
    "    class therapeutic_agent(Thing):\n",
    "        namespace = onto\n",
    "    class biological_process_main(Thing):\n",
    "        namespace = onto\n",
    "    class molecular_function_main(Thing):\n",
    "        namespace = onto\n",
    "    class drug(Thing):\n",
    "        namespace = onto"
   ]
  },
  {
   "cell_type": "code",
   "execution_count": 11,
   "metadata": {},
   "outputs": [],
   "source": [
    "def recursive_classmaker_down(term):\n",
    "    for item in nary[term]['children']:\n",
    "        if item['relation'] == 'is_a' and hashmap[item['id']] == False:\n",
    "            with onto:\n",
    "                nc = types.new_class(item['id'][3:], (getattr(onto, term[3:]),))\n",
    "            recursive_classmaker_down(item['id'])\n",
    "            hashmap[item['id']] = True\n",
    "    return 0"
   ]
  },
  {
   "cell_type": "code",
   "execution_count": 12,
   "metadata": {
    "scrolled": true
   },
   "outputs": [],
   "source": [
    "#Using classmaker to make FTC classes\n",
    "\n",
    "for key, value in nary.items():\n",
    "    if value['parent'] == [] and value['aspect'] == 'biological_process':\n",
    "        with onto:\n",
    "            nc = types.new_class(key[3:], (biological_process_main,))\n",
    "        if hashmap[key] == False:\n",
    "            recursive_classmaker_down(key)\n",
    "    if value['parent'] == [] and value['aspect'] == 'molecular_function':\n",
    "        with onto:\n",
    "            nc = types.new_class(key[3:], (molecular_function_main,))\n",
    "        if hashmap[key] == False:\n",
    "            recursive_classmaker_down(key)\n",
    "   "
   ]
  },
  {
   "cell_type": "code",
   "execution_count": 37,
   "metadata": {},
   "outputs": [
    {
     "name": "stdout",
     "output_type": "stream",
     "text": [
      "4367\n"
     ]
    }
   ],
   "source": [
    "#delete cellular components fron nary\n",
    "#remove anything that is not a biological_process or molecular_function\n",
    "\n",
    "c = 0\n",
    "keys = []\n",
    "for key, value in nary.items():\n",
    "    if value['aspect'] != 'biological_process' and value['aspect'] != 'molecular_function':\n",
    "        keys.append(key)\n",
    "        c+=1\n",
    "print(c)\n",
    "for i in keys:\n",
    "    del nary[i]"
   ]
  },
  {
   "cell_type": "code",
   "execution_count": 39,
   "metadata": {},
   "outputs": [
    {
     "data": {
      "text/plain": [
       "['GO:0150136',\n",
       " 'GO:0150138',\n",
       " 'GO:0150139',\n",
       " 'GO:0150151',\n",
       " 'GO:0150152',\n",
       " 'GO:0150153',\n",
       " 'GO:0098504',\n",
       " 'GO:1902496',\n",
       " 'GO:0061396',\n",
       " 'GO:0150161',\n",
       " 'GO:0150162',\n",
       " 'GO:0150160']"
      ]
     },
     "execution_count": 39,
     "metadata": {},
     "output_type": "execute_result"
    }
   ],
   "source": [
    "classes_not_created"
   ]
  },
  {
   "cell_type": "code",
   "execution_count": 46,
   "metadata": {},
   "outputs": [],
   "source": [
    "#Handling poor discount classes\n",
    "\n",
    "#list of classes created\n",
    "\n",
    "GO_classes_created = [('GO:' + str(x)[5:]) for x in list(onto.classes())]\n",
    "\n",
    "\n",
    "classes_not_created = []\n",
    "\n",
    "for k, v in nary.items():\n",
    "    if k not in GO_classes_created:\n",
    "        classes_not_created.append(k)\n",
    "\n",
    "\n",
    "l = list(onto.classes())\n"
   ]
  },
  {
   "cell_type": "code",
   "execution_count": 54,
   "metadata": {},
   "outputs": [],
   "source": [
    "for x in classes_not_created:\n",
    "    for a in nary[x]['parent']:\n",
    "        if a['id'][3:] in GO_classes_created:\n",
    "            with onto:\n",
    "                nc = types.new_class(x[3:], (getattr(onto, a['id'][3:]),))\n",
    "            recursive_classmaker_down(x)"
   ]
  },
  {
   "cell_type": "code",
   "execution_count": 55,
   "metadata": {},
   "outputs": [
    {
     "data": {
      "text/plain": [
       "42985"
      ]
     },
     "execution_count": 55,
     "metadata": {},
     "output_type": "execute_result"
    }
   ],
   "source": [
    "len(list(onto.classes()))"
   ]
  },
  {
   "cell_type": "code",
   "execution_count": 53,
   "metadata": {},
   "outputs": [
    {
     "data": {
      "text/plain": [
       "12"
      ]
     },
     "execution_count": 53,
     "metadata": {},
     "output_type": "execute_result"
    }
   ],
   "source": [
    "len(classes_not_created)"
   ]
  },
  {
   "cell_type": "code",
   "execution_count": 58,
   "metadata": {},
   "outputs": [
    {
     "ename": "KeyError",
     "evalue": "'GO:0000139'",
     "output_type": "error",
     "traceback": [
      "\u001b[0;31m---------------------------------------------------------------------------\u001b[0m",
      "\u001b[0;31mKeyError\u001b[0m                                  Traceback (most recent call last)",
      "\u001b[0;32m<ipython-input-58-70cb80926275>\u001b[0m in \u001b[0;36m<module>\u001b[0;34m\u001b[0m\n\u001b[0;32m----> 1\u001b[0;31m \u001b[0mnary\u001b[0m\u001b[0;34m[\u001b[0m\u001b[0;34m'GO:0000139'\u001b[0m\u001b[0;34m]\u001b[0m\u001b[0;34m\u001b[0m\u001b[0;34m\u001b[0m\u001b[0m\n\u001b[0m",
      "\u001b[0;31mKeyError\u001b[0m: 'GO:0000139'"
     ]
    }
   ],
   "source": [
    "nary['GO:0000139']"
   ]
  },
  {
   "cell_type": "code",
   "execution_count": 47,
   "metadata": {},
   "outputs": [],
   "source": [
    "for i in l:\n",
    "    if ('GO:' + str(i)[5:]) in nary:\n",
    "        for item in nary['GO:' + str(i)[5:]]['children']:\n",
    "            for ancestor in list(i.ancestors()):\n",
    "                if item['id'] == str('GO:' + str(ancestor)[5:]):\n",
    "                    print(item['id'])"
   ]
  },
  {
   "cell_type": "code",
   "execution_count": 62,
   "metadata": {},
   "outputs": [],
   "source": [
    "for k,v in nary.items():\n",
    "    for item in v['parent']:\n",
    "        for item2 in v['children']:\n",
    "            if item == item2:\n",
    "                print(item)"
   ]
  },
  {
   "cell_type": "code",
   "execution_count": 56,
   "metadata": {},
   "outputs": [],
   "source": [
    "onto.save(file = \"onto\", format = \"rdfxml\")"
   ]
  },
  {
   "cell_type": "code",
   "execution_count": null,
   "metadata": {},
   "outputs": [],
   "source": [
    "nary"
   ]
  }
 ],
 "metadata": {
  "kernelspec": {
   "display_name": "Python 3",
   "language": "python",
   "name": "python3"
  },
  "language_info": {
   "codemirror_mode": {
    "name": "ipython",
    "version": 3
   },
   "file_extension": ".py",
   "mimetype": "text/x-python",
   "name": "python",
   "nbconvert_exporter": "python",
   "pygments_lexer": "ipython3",
   "version": "3.6.8"
  }
 },
 "nbformat": 4,
 "nbformat_minor": 2
}
