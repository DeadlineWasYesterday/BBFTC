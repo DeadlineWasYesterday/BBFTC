{
 "cells": [
  {
   "cell_type": "code",
   "execution_count": 1,
   "metadata": {},
   "outputs": [],
   "source": [
    "with open(\"keys.txt\", \"r\") as file:\n",
    "    x = file.read().splitlines()\n"
   ]
  },
  {
   "cell_type": "code",
   "execution_count": 1,
   "metadata": {},
   "outputs": [],
   "source": [
    "from future.standard_library import install_aliases\n",
    "install_aliases()\n",
    "from urllib.request import urlopen\n",
    "import json\n",
    "\n",
    "def get_term(go_id):\n",
    "    \"\"\"\n",
    "        This function retrieves the definition of a given Gene Ontology term,\n",
    "        using EMBL-EBI's QuickGO browser.\n",
    "        Input: go_id - a valid Gene Ontology ID, e.g. GO:0048527.\n",
    "    \"\"\"\n",
    "    quickgo_url = \"https://www.ebi.ac.uk/QuickGO/services/ontology/go/terms/\" + go_id\n",
    "    ret = urlopen(quickgo_url)\n",
    "    \n",
    "    # Check the response\n",
    "    if(ret.getcode() == 200):\n",
    "        term = json.loads(ret.read())\n",
    "        return term['results'][0]\n",
    "    else:\n",
    "        raise ValueError(\"Couldn't receive information from QuickGO. Check GO ID and try again.\")\n"
   ]
  },
  {
   "cell_type": "code",
   "execution_count": 3,
   "metadata": {},
   "outputs": [],
   "source": [
    "#Updated func, with retrieved keys\n",
    "\n",
    "import time\n",
    "\n",
    "\n",
    "def myfunc(keys, startfrom):\n",
    "    count = startfrom\n",
    "    try:\n",
    "        while (count - 1) < len(keys):\n",
    "            out = get_term(keys[count - 1])\n",
    "            with open(\"metadata_trial4.txt\",\"a\") as file:\n",
    "                print(out, file=file)\n",
    "                \n",
    "                print(\"Ok.\", keys[count - 1], count)\n",
    "            count+=1\n",
    "            \n",
    "\n",
    "    except IndexError:\n",
    "        \n",
    "        print(\"I error. It's all fucked up.\", keys[count - 1], count)\n",
    "        count+=1\n",
    "        myfunc(keys,count)\n",
    "        \n",
    "    except:\n",
    "        time.sleep(15)\n",
    "        print(\"Other error.\", keys[count - 1], count)\n",
    "        myfunc(keys,count)\n",
    "    return count\n",
    "        \n",
    "        "
   ]
  },
  {
   "cell_type": "code",
   "execution_count": 2,
   "metadata": {},
   "outputs": [
    {
     "data": {
      "text/plain": [
       "{'id': 'GO:0008150',\n",
       " 'isObsolete': False,\n",
       " 'name': 'biological_process',\n",
       " 'definition': {'text': 'A biological process represents a specific objective that the organism is genetically programmed to achieve. Biological processes are often described by their outcome or ending state, e.g., the biological process of cell division results in the creation of two daughter cells (a divided cell) from a single parent cell. A biological process is accomplished by a particular set of molecular functions carried out by specific gene products (or macromolecular complexes), often in a highly regulated manner and in a particular temporal sequence.'},\n",
       " 'comment': 'Note that, in addition to forming the root of the biological process ontology, this term is recommended for use for the annotation of gene products whose biological process is unknown. When this term is used for annotation, it indicates that no information was available about the biological process of the gene product annotated as of the date the annotation was made; the evidence code \"no data\" (ND), is used to indicate this.',\n",
       " 'synonyms': [{'name': 'physiological process', 'type': 'exact'},\n",
       "  {'name': 'biological process', 'type': 'exact'},\n",
       "  {'name': 'single-organism process', 'type': 'related'},\n",
       "  {'name': 'single organism process', 'type': 'related'}],\n",
       " 'children': [{'id': 'GO:0098754', 'relation': 'is_a'},\n",
       "  {'id': 'GO:0002376', 'relation': 'is_a'},\n",
       "  {'id': 'GO:0009758', 'relation': 'is_a'},\n",
       "  {'id': 'GO:0110148', 'relation': 'is_a'},\n",
       "  {'id': 'GO:0009987', 'relation': 'is_a'},\n",
       "  {'id': 'GO:0000003', 'relation': 'is_a'},\n",
       "  {'id': 'GO:0040011', 'relation': 'is_a'},\n",
       "  {'id': 'GO:0001906', 'relation': 'is_a'},\n",
       "  {'id': 'GO:0006794', 'relation': 'is_a'},\n",
       "  {'id': 'GO:0007610', 'relation': 'is_a'},\n",
       "  {'id': 'GO:0071840', 'relation': 'is_a'},\n",
       "  {'id': 'GO:0050896', 'relation': 'is_a'},\n",
       "  {'id': 'GO:0051704', 'relation': 'is_a'},\n",
       "  {'id': 'GO:0022414', 'relation': 'is_a'},\n",
       "  {'id': 'GO:0048519', 'relation': 'negatively_regulates'},\n",
       "  {'id': 'GO:0065007', 'relation': 'is_a'},\n",
       "  {'id': 'GO:0008152', 'relation': 'is_a'},\n",
       "  {'id': 'GO:0051179', 'relation': 'is_a'},\n",
       "  {'id': 'GO:0032502', 'relation': 'is_a'},\n",
       "  {'id': 'GO:0032501', 'relation': 'is_a'},\n",
       "  {'id': 'GO:0098743', 'relation': 'is_a'},\n",
       "  {'id': 'GO:0050789', 'relation': 'regulates'},\n",
       "  {'id': 'GO:0040007', 'relation': 'is_a'},\n",
       "  {'id': 'GO:0008283', 'relation': 'is_a'},\n",
       "  {'id': 'GO:0019740', 'relation': 'is_a'},\n",
       "  {'id': 'GO:0006791', 'relation': 'is_a'},\n",
       "  {'id': 'GO:0015976', 'relation': 'is_a'},\n",
       "  {'id': 'GO:0048511', 'relation': 'is_a'},\n",
       "  {'id': 'GO:0023052', 'relation': 'is_a'},\n",
       "  {'id': 'GO:0048518', 'relation': 'positively_regulates'},\n",
       "  {'id': 'GO:0044848', 'relation': 'is_a'},\n",
       "  {'id': 'GO:0043473', 'relation': 'is_a'},\n",
       "  {'id': 'GO:0022610', 'relation': 'is_a'}],\n",
       " 'aspect': 'biological_process',\n",
       " 'usage': 'Unrestricted'}"
      ]
     },
     "execution_count": 2,
     "metadata": {},
     "output_type": "execute_result"
    }
   ],
   "source": [
    "get_term('GO:0008150')"
   ]
  },
  {
   "cell_type": "code",
   "execution_count": null,
   "metadata": {},
   "outputs": [
    {
     "name": "stdout",
     "output_type": "stream",
     "text": [
      "Ok. GO:1900154 37120\n",
      "Ok. GO:1900155 37121\n",
      "Ok. GO:1900156 37122\n"
     ]
    }
   ],
   "source": [
    "myfunc(x,37120)"
   ]
  }
 ],
 "metadata": {
  "kernelspec": {
   "display_name": "Python 3",
   "language": "python",
   "name": "python3"
  },
  "language_info": {
   "codemirror_mode": {
    "name": "ipython",
    "version": 3
   },
   "file_extension": ".py",
   "mimetype": "text/x-python",
   "name": "python",
   "nbconvert_exporter": "python",
   "pygments_lexer": "ipython3",
   "version": "3.6.8"
  }
 },
 "nbformat": 4,
 "nbformat_minor": 2
}
