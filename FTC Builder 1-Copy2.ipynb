{
 "cells": [
  {
   "cell_type": "code",
   "execution_count": 1,
   "metadata": {},
   "outputs": [],
   "source": [
    "##Load metadata from file\n",
    "\n",
    "import ast\n",
    "\n",
    "d = {}\n",
    "nary = {}\n",
    "with open(\"metadata_trial4.txt\", 'r') as f:\n",
    "    for line in f:\n",
    "        d = (ast.literal_eval(line))\n",
    "        nary.update({d['id'] : d})"
   ]
  },
  {
   "cell_type": "code",
   "execution_count": 2,
   "metadata": {},
   "outputs": [],
   "source": [
    "#Filter terms that have children and aspect\n",
    "\n",
    "filnary = {}\n",
    "kilnary = {}\n",
    "nochild = {}\n",
    "\n",
    "for key, value in nary.items():\n",
    "    if value.get('children') != None:\n",
    "        filnary = ({'id' : value['id'], 'name' : value['name'], 'aspect' : value['aspect'], \n",
    "                    'children' : value['children']})\n",
    "        kilnary.update({key : filnary})\n",
    "    else:\n",
    "        filnary = ({'id' : value['id'], 'name' : value['name'], 'aspect' : value['aspect']})\n",
    "        nochild.update({key : filnary})"
   ]
  },
  {
   "cell_type": "code",
   "execution_count": 3,
   "metadata": {
    "scrolled": false
   },
   "outputs": [
    {
     "name": "stderr",
     "output_type": "stream",
     "text": [
      "* Owlready2 * Warning: optimized Cython parser module 'owlready2_optimized' is not available, defaulting to slower Python implementation\n"
     ]
    }
   ],
   "source": [
    "#import owlready2\n",
    "\n",
    "import types\n",
    "from owlready2 import *\n",
    "onto = get_ontology(\"http://test.org/onto.owl\")"
   ]
  },
  {
   "cell_type": "code",
   "execution_count": 12,
   "metadata": {},
   "outputs": [],
   "source": [
    "#define core classes\n",
    "\n",
    "with onto:\n",
    "    class therapeutic_agent(Thing):\n",
    "        namespace = onto\n",
    "    class biological_process(Thing):\n",
    "        namespace = onto\n",
    "    class molecular_function(Thing):\n",
    "        namespace = onto\n",
    "    class drug(Thing):\n",
    "        namespace = onto"
   ]
  },
  {
   "cell_type": "code",
   "execution_count": 5,
   "metadata": {},
   "outputs": [],
   "source": [
    "#classmaker function to make FTC classes\n",
    "\n",
    "def classmaker(term, parentclass):\n",
    "                classnameA = 'GOA' + str(term)\n",
    "                classnameP = 'GOP' + str(term)\n",
    "                with onto:\n",
    "                    classname = types.new_class(classnameA, (parentclass,))\n",
    "                    classname = types.new_class(classnameP, (parentclass,))\n",
    "                return 0"
   ]
  },
  {
   "cell_type": "code",
   "execution_count": 6,
   "metadata": {},
   "outputs": [],
   "source": [
    "#Using classmaker to make FTC classes\n",
    "\n",
    "for key, value in kilnary.items():\n",
    "    if value['aspect'] == 'biological_process':\n",
    "        for item in value['children']:\n",
    "            term = str(value['id'][3:])\n",
    "            if item['relation'] == 'positively_regulates' and item['id'] in kilnary:\n",
    "                #classmaker(term, therapeutic_agent)\n",
    "            #if item['id'] in kilnary:\n",
    "                classmaker(str(item['id'][3:]), therapeutic_agent)\n",
    "                #print('biological process', value['id'], 'positively regulates', item['id'])\n",
    "            if item['relation'] == 'negatively_regulates' and item['id'] in kilnary:\n",
    "                #classmaker(term, therapeutic_agent)\n",
    "            #if item['id'] in kilnary:\n",
    "                classmaker(str(item['id'][3:]), therapeutic_agent)\n",
    "                #print('biological process', value['id'], 'negatively regulates', item['id'])\n",
    "            if item['relation'] == 'regulates' and item['id'] in kilnary:\n",
    "                #classmaker(term, therapeutic_agent)\n",
    "            #if item['id'] in kilnary:\n",
    "                classmaker(str(item['id'][3:]), therapeutic_agent)\n",
    "                #print('biological process', value['id'], 'regulates', item['id'])\n",
    "                \n",
    "    if value['aspect'] == 'molecular_function':\n",
    "        for item in value['children']:\n",
    "            if item['relation'] == 'positively_regulates' and item['id'] in kilnary:\n",
    "                #classmaker(term, therapeutic_agent)\n",
    "            #if item['id'] in kilnary:\n",
    "                classmaker(str(item['id'][3:]), therapeutic_agent)\n",
    "                #print('molecular function', value['id'], 'positively regulates', item['id'])\n",
    "            if item['relation'] == 'negatively_regulates' and item['id'] in kilnary:\n",
    "                #classmaker(term, therapeutic_agent)\n",
    "            #if item['id'] in kilnary:\n",
    "                classmaker(str(item['id'][3:]), therapeutic_agent)\n",
    "                #print('molecular function', value['id'], 'negatively regulates', item['id'])\n",
    "            if item['relation'] == 'regulates' and item['id'] in kilnary:\n",
    "                #classmaker(term, therapeutic_agent)\n",
    "            #if item['id'] in kilnary:\n",
    "                classmaker(str(item['id'][3:]), therapeutic_agent)\n",
    "                #print('molecular function', value['id'], 'regulates', item['id'])"
   ]
  },
  {
   "cell_type": "code",
   "execution_count": 6,
   "metadata": {},
   "outputs": [
    {
     "name": "stdout",
     "output_type": "stream",
     "text": [
      "23318 24030 0\n",
      "6914\n"
     ]
    }
   ],
   "source": [
    "#number of child classes linked by 'regulates'\n",
    "\n",
    "print(len(kilnary.items()), len(nochild.items()), len(list(onto.classes())))\n",
    "c=0\n",
    "l = []\n",
    "\n",
    "for key, value in kilnary.items():\n",
    "    for item in value['children']:\n",
    "        if (item['relation'] == 'positively_regulates' or item['relation'] == 'negatively regulates' or item['relation'] == 'regulates') and (value['aspect'] == 'biological_process' or value['aspect'] == 'molecular_function') and item['id'] not in l:\n",
    "            l.append(item['id'])\n",
    "            c+=1\n",
    "\n",
    "print(c)        "
   ]
  },
  {
   "cell_type": "code",
   "execution_count": 13,
   "metadata": {},
   "outputs": [],
   "source": [
    "#make bp and mf classes\n",
    "\n",
    "for key, value in nary.items():\n",
    "\n",
    "    if value.get('aspect') != None and value['aspect'] == 'biological_process':\n",
    "        with onto:\n",
    "            classname = types.new_class(key, (biological_process,))\n",
    "    if value.get('aspect') != None and value['aspect'] == 'molecular_function':\n",
    "        with onto:\n",
    "            classname = types.new_class(key, (molecular_function,))"
   ]
  },
  {
   "cell_type": "code",
   "execution_count": 14,
   "metadata": {},
   "outputs": [],
   "source": [
    "#assign appropriate labels to classes\n",
    "\n",
    "x = list(onto.classes())\n",
    "for y in x:\n",
    "    term = 'GO:' + str(y)[8:]\n",
    "    if str(y)[7] == ':' and term in kilnary:\n",
    "        y.label = nary[str(y)[5:]]['name']\n",
    "    if str(y)[7] == 'A' and term in kilnary :\n",
    "        y.label = 'anti_' + kilnary[term]['name'] + '_agent'\n",
    "    \n",
    "    if str(y)[7] == 'P' and term in kilnary :\n",
    "        y.label = 'pro_' + kilnary[term]['name'] + '_agent'"
   ]
  },
  {
   "cell_type": "code",
   "execution_count": 15,
   "metadata": {},
   "outputs": [],
   "source": [
    "#list of ids from the created classes in the two text formats\n",
    "\n",
    "ids = []\n",
    "ontoids = []\n",
    "for cl in list(onto.classes()):\n",
    "    cl = str(cl)\n",
    "    ontoids.append(cl)\n",
    "    clt = cl[5:7] +':' + cl[8:]\n",
    "    ids.append(clt)"
   ]
  },
  {
   "cell_type": "code",
   "execution_count": 16,
   "metadata": {},
   "outputs": [],
   "source": [
    "#propertymaker function for making properties\n",
    "\n",
    "def propertymaker(pname, pdomain, prange):\n",
    "    with onto:\n",
    "            classname = types.new_class((pname), (ObjectProperty,), )\n",
    "    return 0"
   ]
  },
  {
   "cell_type": "code",
   "execution_count": 17,
   "metadata": {},
   "outputs": [],
   "source": [
    "#parsing biological process and molecular function classes\n",
    "\n",
    "reldict = {}\n",
    "\n",
    "\n",
    "for key, value in nary.items():            \n",
    "    if value.get('children') != None and value['id'] in ids:\n",
    "            \n",
    "        for item in value['children']:\n",
    "            if reldict.get(item['relation']) == None:\n",
    "                reldict[item['relation']] = [[],[]]\n",
    "                propertymaker(item['relation'], 'void', 'void')\n",
    "        for item in value['children']:\n",
    "            if item['id'] in ids:\n",
    "                reldict[item['relation']][0].append(ids[ids.index(value['id'])])\n",
    "                reldict[item['relation']][1].append(ids[ids.index(item['id'])])\n",
    "        "
   ]
  },
  {
   "cell_type": "code",
   "execution_count": 19,
   "metadata": {},
   "outputs": [],
   "source": [
    "#Making subproperties positively_regulates and negatively_regulates\n",
    "\n",
    "with onto:\n",
    "    class regulates(ObjectProperty):\n",
    "        pass\n",
    "    class positively_regulates(regulates):\n",
    "        pass\n",
    "    class negatively_regulates(regulates):\n",
    "        pass"
   ]
  },
  {
   "cell_type": "code",
   "execution_count": 20,
   "metadata": {},
   "outputs": [],
   "source": [
    "#converting string to object in reldict lists\n",
    "\n",
    "for key, value in reldict.items():\n",
    "    for item in value[0]:\n",
    "        value[0][value[0].index(item)] = getattr(onto, item)\n",
    "    for item in value[1]:\n",
    "        value[1][value[1].index(item)] = getattr(onto, item)\n"
   ]
  },
  {
   "cell_type": "code",
   "execution_count": 50,
   "metadata": {
    "scrolled": true
   },
   "outputs": [],
   "source": [
    "#setting relations\n",
    "\n",
    "for key, value in reldict.items():\n",
    "    for item in value[0]:\n",
    "        setattr(item, key, [value[1][value[0].index(item)]])"
   ]
  },
  {
   "cell_type": "code",
   "execution_count": null,
   "metadata": {
    "scrolled": true
   },
   "outputs": [],
   "source": [
    "reldict.keys()"
   ]
  },
  {
   "cell_type": "code",
   "execution_count": 51,
   "metadata": {},
   "outputs": [],
   "source": [
    "onto.save(file = \"testowl2\", format = \"rdfxml\")"
   ]
  }
 ],
 "metadata": {
  "kernelspec": {
   "display_name": "Python 3",
   "language": "python",
   "name": "python3"
  },
  "language_info": {
   "codemirror_mode": {
    "name": "ipython",
    "version": 3
   },
   "file_extension": ".py",
   "mimetype": "text/x-python",
   "name": "python",
   "nbconvert_exporter": "python",
   "pygments_lexer": "ipython3",
   "version": "3.6.8"
  }
 },
 "nbformat": 4,
 "nbformat_minor": 2
}
