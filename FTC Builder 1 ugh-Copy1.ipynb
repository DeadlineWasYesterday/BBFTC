{
 "cells": [
  {
   "cell_type": "code",
   "execution_count": 6,
   "metadata": {},
   "outputs": [],
   "source": [
    "##Load metadata from file\n",
    "\n",
    "import ast\n",
    "\n",
    "d = {}\n",
    "nary = {}\n",
    "with open(\"metadata_trial4.txt\", 'r') as f:\n",
    "    for line in f:\n",
    "        d = (ast.literal_eval(line))\n",
    "        nary.update({d['id'] : d})"
   ]
  },
  {
   "cell_type": "code",
   "execution_count": 7,
   "metadata": {},
   "outputs": [],
   "source": [
    "#Filter terms that have children and aspect\n",
    "\n",
    "filnary = {}\n",
    "kilnary = {}\n",
    "nochild = {}\n",
    "\n",
    "for key, value in nary.items():\n",
    "    if value.get('children') != None:\n",
    "        filnary = ({'id' : value['id'], 'name' : value['name'], 'aspect' : value['aspect'], \n",
    "                    'children' : value['children']})\n",
    "        kilnary.update({key : filnary})\n",
    "    else:\n",
    "        filnary = ({'id' : value['id'], 'name' : value['name'], 'aspect' : value['aspect']})\n",
    "        nochild.update({key : filnary})"
   ]
  },
  {
   "cell_type": "code",
   "execution_count": 8,
   "metadata": {},
   "outputs": [
    {
     "name": "stdout",
     "output_type": "stream",
     "text": [
      "86683\n"
     ]
    }
   ],
   "source": [
    "#count number of related items\n",
    "c = 0\n",
    "for key, value in nary.items():\n",
    "    if value.get('children') != None:\n",
    "        for item in value['children']:\n",
    "            if item['relation'] == 'is_a':\n",
    "                c+=1\n",
    "print(c)"
   ]
  },
  {
   "cell_type": "code",
   "execution_count": 9,
   "metadata": {},
   "outputs": [
    {
     "name": "stdout",
     "output_type": "stream",
     "text": [
      "{'id': 'GO:0008150', 'isObsolete': False, 'name': 'biological_process', 'definition': {'text': 'A biological process represents a specific objective that the organism is genetically programmed to achieve. Biological processes are often described by their outcome or ending state, e.g., the biological process of cell division results in the creation of two daughter cells (a divided cell) from a single parent cell. A biological process is accomplished by a particular set of molecular functions carried out by specific gene products (or macromolecular complexes), often in a highly regulated manner and in a particular temporal sequence.'}, 'comment': 'Note that, in addition to forming the root of the biological process ontology, this term is recommended for use for the annotation of gene products whose biological process is unknown. When this term is used for annotation, it indicates that no information was available about the biological process of the gene product annotated as of the date the annotation was made; the evidence code \"no data\" (ND), is used to indicate this.', 'synonyms': [{'name': 'physiological process', 'type': 'exact'}, {'name': 'biological process', 'type': 'exact'}, {'name': 'single-organism process', 'type': 'related'}, {'name': 'single organism process', 'type': 'related'}], 'children': [{'id': 'GO:0098754', 'relation': 'is_a'}, {'id': 'GO:0002376', 'relation': 'is_a'}, {'id': 'GO:0009758', 'relation': 'is_a'}, {'id': 'GO:0110148', 'relation': 'is_a'}, {'id': 'GO:0009987', 'relation': 'is_a'}, {'id': 'GO:0000003', 'relation': 'is_a'}, {'id': 'GO:0040011', 'relation': 'is_a'}, {'id': 'GO:0001906', 'relation': 'is_a'}, {'id': 'GO:0006794', 'relation': 'is_a'}, {'id': 'GO:0007610', 'relation': 'is_a'}, {'id': 'GO:0071840', 'relation': 'is_a'}, {'id': 'GO:0050896', 'relation': 'is_a'}, {'id': 'GO:0051704', 'relation': 'is_a'}, {'id': 'GO:0022414', 'relation': 'is_a'}, {'id': 'GO:0048519', 'relation': 'negatively_regulates'}, {'id': 'GO:0065007', 'relation': 'is_a'}, {'id': 'GO:0008152', 'relation': 'is_a'}, {'id': 'GO:0051179', 'relation': 'is_a'}, {'id': 'GO:0032502', 'relation': 'is_a'}, {'id': 'GO:0032501', 'relation': 'is_a'}, {'id': 'GO:0098743', 'relation': 'is_a'}, {'id': 'GO:0050789', 'relation': 'regulates'}, {'id': 'GO:0040007', 'relation': 'is_a'}, {'id': 'GO:0008283', 'relation': 'is_a'}, {'id': 'GO:0019740', 'relation': 'is_a'}, {'id': 'GO:0006791', 'relation': 'is_a'}, {'id': 'GO:0015976', 'relation': 'is_a'}, {'id': 'GO:0048511', 'relation': 'is_a'}, {'id': 'GO:0023052', 'relation': 'is_a'}, {'id': 'GO:0048518', 'relation': 'positively_regulates'}, {'id': 'GO:0044848', 'relation': 'is_a'}, {'id': 'GO:0043473', 'relation': 'is_a'}, {'id': 'GO:0022610', 'relation': 'is_a'}], 'aspect': 'biological_process', 'usage': 'Unrestricted'}\n",
      "{'id': 'GO:0007582', 'isObsolete': False, 'name': 'biological_process', 'definition': {'text': 'A biological process represents a specific objective that the organism is genetically programmed to achieve. Biological processes are often described by their outcome or ending state, e.g., the biological process of cell division results in the creation of two daughter cells (a divided cell) from a single parent cell. A biological process is accomplished by a particular set of molecular functions carried out by specific gene products (or macromolecular complexes), often in a highly regulated manner and in a particular temporal sequence.'}, 'comment': 'Note that, in addition to forming the root of the biological process ontology, this term is recommended for use for the annotation of gene products whose biological process is unknown. When this term is used for annotation, it indicates that no information was available about the biological process of the gene product annotated as of the date the annotation was made; the evidence code \"no data\" (ND), is used to indicate this.', 'synonyms': [{'name': 'physiological process', 'type': 'exact'}, {'name': 'biological process', 'type': 'exact'}, {'name': 'single-organism process', 'type': 'related'}, {'name': 'single organism process', 'type': 'related'}], 'children': [{'id': 'GO:0098754', 'relation': 'is_a'}, {'id': 'GO:0002376', 'relation': 'is_a'}, {'id': 'GO:0009758', 'relation': 'is_a'}, {'id': 'GO:0110148', 'relation': 'is_a'}, {'id': 'GO:0009987', 'relation': 'is_a'}, {'id': 'GO:0000003', 'relation': 'is_a'}, {'id': 'GO:0040011', 'relation': 'is_a'}, {'id': 'GO:0001906', 'relation': 'is_a'}, {'id': 'GO:0006794', 'relation': 'is_a'}, {'id': 'GO:0007610', 'relation': 'is_a'}, {'id': 'GO:0071840', 'relation': 'is_a'}, {'id': 'GO:0050896', 'relation': 'is_a'}, {'id': 'GO:0051704', 'relation': 'is_a'}, {'id': 'GO:0022414', 'relation': 'is_a'}, {'id': 'GO:0048519', 'relation': 'negatively_regulates'}, {'id': 'GO:0065007', 'relation': 'is_a'}, {'id': 'GO:0008152', 'relation': 'is_a'}, {'id': 'GO:0051179', 'relation': 'is_a'}, {'id': 'GO:0032502', 'relation': 'is_a'}, {'id': 'GO:0032501', 'relation': 'is_a'}, {'id': 'GO:0098743', 'relation': 'is_a'}, {'id': 'GO:0050789', 'relation': 'regulates'}, {'id': 'GO:0040007', 'relation': 'is_a'}, {'id': 'GO:0008283', 'relation': 'is_a'}, {'id': 'GO:0019740', 'relation': 'is_a'}, {'id': 'GO:0006791', 'relation': 'is_a'}, {'id': 'GO:0015976', 'relation': 'is_a'}, {'id': 'GO:0048511', 'relation': 'is_a'}, {'id': 'GO:0023052', 'relation': 'is_a'}, {'id': 'GO:0048518', 'relation': 'positively_regulates'}, {'id': 'GO:0044848', 'relation': 'is_a'}, {'id': 'GO:0043473', 'relation': 'is_a'}, {'id': 'GO:0022610', 'relation': 'is_a'}], 'aspect': 'biological_process', 'usage': 'Unrestricted'}\n",
      "{'id': 'GO:0000004', 'isObsolete': False, 'name': 'biological_process', 'definition': {'text': 'A biological process represents a specific objective that the organism is genetically programmed to achieve. Biological processes are often described by their outcome or ending state, e.g., the biological process of cell division results in the creation of two daughter cells (a divided cell) from a single parent cell. A biological process is accomplished by a particular set of molecular functions carried out by specific gene products (or macromolecular complexes), often in a highly regulated manner and in a particular temporal sequence.'}, 'comment': 'Note that, in addition to forming the root of the biological process ontology, this term is recommended for use for the annotation of gene products whose biological process is unknown. When this term is used for annotation, it indicates that no information was available about the biological process of the gene product annotated as of the date the annotation was made; the evidence code \"no data\" (ND), is used to indicate this.', 'synonyms': [{'name': 'physiological process', 'type': 'exact'}, {'name': 'biological process', 'type': 'exact'}, {'name': 'single-organism process', 'type': 'related'}, {'name': 'single organism process', 'type': 'related'}], 'children': [{'id': 'GO:0098754', 'relation': 'is_a'}, {'id': 'GO:0002376', 'relation': 'is_a'}, {'id': 'GO:0009758', 'relation': 'is_a'}, {'id': 'GO:0110148', 'relation': 'is_a'}, {'id': 'GO:0009987', 'relation': 'is_a'}, {'id': 'GO:0000003', 'relation': 'is_a'}, {'id': 'GO:0040011', 'relation': 'is_a'}, {'id': 'GO:0001906', 'relation': 'is_a'}, {'id': 'GO:0006794', 'relation': 'is_a'}, {'id': 'GO:0007610', 'relation': 'is_a'}, {'id': 'GO:0071840', 'relation': 'is_a'}, {'id': 'GO:0050896', 'relation': 'is_a'}, {'id': 'GO:0051704', 'relation': 'is_a'}, {'id': 'GO:0022414', 'relation': 'is_a'}, {'id': 'GO:0048519', 'relation': 'negatively_regulates'}, {'id': 'GO:0065007', 'relation': 'is_a'}, {'id': 'GO:0008152', 'relation': 'is_a'}, {'id': 'GO:0051179', 'relation': 'is_a'}, {'id': 'GO:0032502', 'relation': 'is_a'}, {'id': 'GO:0032501', 'relation': 'is_a'}, {'id': 'GO:0098743', 'relation': 'is_a'}, {'id': 'GO:0050789', 'relation': 'regulates'}, {'id': 'GO:0040007', 'relation': 'is_a'}, {'id': 'GO:0008283', 'relation': 'is_a'}, {'id': 'GO:0019740', 'relation': 'is_a'}, {'id': 'GO:0006791', 'relation': 'is_a'}, {'id': 'GO:0015976', 'relation': 'is_a'}, {'id': 'GO:0048511', 'relation': 'is_a'}, {'id': 'GO:0023052', 'relation': 'is_a'}, {'id': 'GO:0048518', 'relation': 'positively_regulates'}, {'id': 'GO:0044848', 'relation': 'is_a'}, {'id': 'GO:0043473', 'relation': 'is_a'}, {'id': 'GO:0022610', 'relation': 'is_a'}], 'aspect': 'biological_process', 'usage': 'Unrestricted'}\n",
      "{'id': 'GO:0044699', 'isObsolete': False, 'name': 'biological_process', 'definition': {'text': 'A biological process represents a specific objective that the organism is genetically programmed to achieve. Biological processes are often described by their outcome or ending state, e.g., the biological process of cell division results in the creation of two daughter cells (a divided cell) from a single parent cell. A biological process is accomplished by a particular set of molecular functions carried out by specific gene products (or macromolecular complexes), often in a highly regulated manner and in a particular temporal sequence.'}, 'comment': 'Note that, in addition to forming the root of the biological process ontology, this term is recommended for use for the annotation of gene products whose biological process is unknown. When this term is used for annotation, it indicates that no information was available about the biological process of the gene product annotated as of the date the annotation was made; the evidence code \"no data\" (ND), is used to indicate this.', 'synonyms': [{'name': 'physiological process', 'type': 'exact'}, {'name': 'biological process', 'type': 'exact'}, {'name': 'single-organism process', 'type': 'related'}, {'name': 'single organism process', 'type': 'related'}], 'children': [{'id': 'GO:0098754', 'relation': 'is_a'}, {'id': 'GO:0002376', 'relation': 'is_a'}, {'id': 'GO:0009758', 'relation': 'is_a'}, {'id': 'GO:0110148', 'relation': 'is_a'}, {'id': 'GO:0009987', 'relation': 'is_a'}, {'id': 'GO:0000003', 'relation': 'is_a'}, {'id': 'GO:0040011', 'relation': 'is_a'}, {'id': 'GO:0001906', 'relation': 'is_a'}, {'id': 'GO:0006794', 'relation': 'is_a'}, {'id': 'GO:0007610', 'relation': 'is_a'}, {'id': 'GO:0071840', 'relation': 'is_a'}, {'id': 'GO:0050896', 'relation': 'is_a'}, {'id': 'GO:0051704', 'relation': 'is_a'}, {'id': 'GO:0022414', 'relation': 'is_a'}, {'id': 'GO:0048519', 'relation': 'negatively_regulates'}, {'id': 'GO:0065007', 'relation': 'is_a'}, {'id': 'GO:0008152', 'relation': 'is_a'}, {'id': 'GO:0051179', 'relation': 'is_a'}, {'id': 'GO:0032502', 'relation': 'is_a'}, {'id': 'GO:0032501', 'relation': 'is_a'}, {'id': 'GO:0098743', 'relation': 'is_a'}, {'id': 'GO:0050789', 'relation': 'regulates'}, {'id': 'GO:0040007', 'relation': 'is_a'}, {'id': 'GO:0008283', 'relation': 'is_a'}, {'id': 'GO:0019740', 'relation': 'is_a'}, {'id': 'GO:0006791', 'relation': 'is_a'}, {'id': 'GO:0015976', 'relation': 'is_a'}, {'id': 'GO:0048511', 'relation': 'is_a'}, {'id': 'GO:0023052', 'relation': 'is_a'}, {'id': 'GO:0048518', 'relation': 'positively_regulates'}, {'id': 'GO:0044848', 'relation': 'is_a'}, {'id': 'GO:0043473', 'relation': 'is_a'}, {'id': 'GO:0022610', 'relation': 'is_a'}], 'aspect': 'biological_process', 'usage': 'Unrestricted'}\n"
     ]
    }
   ],
   "source": [
    "for key, value in nary.items():\n",
    "    if value['name'] == 'biological_process':\n",
    "        print(value)"
   ]
  },
  {
   "cell_type": "code",
   "execution_count": 10,
   "metadata": {
    "scrolled": true
   },
   "outputs": [],
   "source": [
    "#import owlready2\n",
    "\n",
    "import types\n",
    "from owlready2 import *\n",
    "onto = get_ontology(\"http://test.org/onto.owl\")"
   ]
  },
  {
   "cell_type": "code",
   "execution_count": 11,
   "metadata": {},
   "outputs": [],
   "source": [
    "#define core classes\n",
    "\n",
    "with onto:\n",
    "    class therapeutic_agent(Thing):\n",
    "        namespace = onto\n",
    "    class biological_process(Thing):\n",
    "        namespace = onto\n",
    "    class molecular_function(Thing):\n",
    "        namespace = onto\n",
    "    class drug(Thing):\n",
    "        namespace = onto"
   ]
  },
  {
   "cell_type": "code",
   "execution_count": 12,
   "metadata": {},
   "outputs": [],
   "source": [
    "#classmaker function to make FTC classes\n",
    "\n",
    "def classmaker(term, parentclass):\n",
    "                classnameA = 'GOA' + str(term)\n",
    "                classnameP = 'GOP' + str(term)\n",
    "                with onto:\n",
    "                    classname = types.new_class(classnameA, (parentclass,))\n",
    "                    classname = types.new_class(classnameP, (parentclass,))\n",
    "                return 0"
   ]
  },
  {
   "cell_type": "code",
   "execution_count": 13,
   "metadata": {},
   "outputs": [
    {
     "name": "stdout",
     "output_type": "stream",
     "text": [
      "1522\n"
     ]
    }
   ],
   "source": [
    "#remove anything that's not a biological process or molecular function from kilnary\n",
    "\n",
    "c = 0\n",
    "keys = []\n",
    "for key, value in kilnary.items():\n",
    "    if value['aspect'] != 'biological_process' and value['aspect'] != 'molecular_function':\n",
    "        keys.append(key)\n",
    "        c+=1\n",
    "print(c)\n",
    "for i in keys:\n",
    "    del kilnary[i]"
   ]
  },
  {
   "cell_type": "code",
   "execution_count": 14,
   "metadata": {},
   "outputs": [],
   "source": [
    "#Using classmaker to make FTC classes\n",
    "\n",
    "for key, value in kilnary.items():\n",
    "    if value['aspect'] == 'biological_process':\n",
    "        for item in value['children']:\n",
    "            if item['relation'] == 'positively_regulates':\n",
    "                classmaker(str(item['id'][3:]), therapeutic_agent)\n",
    "            if item['relation'] == 'negatively_regulates':\n",
    "                classmaker(str(item['id'][3:]), therapeutic_agent)\n",
    "            if item['relation'] == 'regulates':\n",
    "                classmaker(str(item['id'][3:]), therapeutic_agent)\n",
    "    if value['aspect'] == 'molecular_function':\n",
    "        for item in value['children']:\n",
    "            if item['relation'] == 'positively_regulates':\n",
    "                classmaker(str(item['id'][3:]), therapeutic_agent)\n",
    "            if item['relation'] == 'negatively_regulates':\n",
    "                classmaker(str(item['id'][3:]), therapeutic_agent)\n",
    "            if item['relation'] == 'regulates':\n",
    "                classmaker(str(item['id'][3:]), therapeutic_agent)\n"
   ]
  },
  {
   "cell_type": "code",
   "execution_count": 15,
   "metadata": {},
   "outputs": [],
   "source": [
    "#make bp and mf classes\n",
    "\n",
    "for key, value in nary.items():\n",
    "\n",
    "    if value.get('aspect') != None and value['aspect'] == 'biological_process':\n",
    "        with onto:\n",
    "            classname = types.new_class(key, (Thing,))\n",
    "    if value.get('aspect') != None and value['aspect'] == 'molecular_function':\n",
    "        with onto:\n",
    "            classname = types.new_class(key, (Thing,))"
   ]
  },
  {
   "cell_type": "code",
   "execution_count": 16,
   "metadata": {},
   "outputs": [],
   "source": [
    "#make classes 1 level inside bp and mf classes\n",
    "\n"
   ]
  },
  {
   "cell_type": "code",
   "execution_count": 17,
   "metadata": {},
   "outputs": [],
   "source": [
    "#assign appropriate labels to classes\n",
    "\n",
    "x = list(onto.classes())\n",
    "for y in x:\n",
    "    term = 'GO:' + str(y)[8:]\n",
    "    if str(y)[7] == ':':\n",
    "        y.label = nary[str(y)[5:]]['name']\n",
    "    if str(y)[7] == 'A':\n",
    "        y.label = 'anti_' + nary[term]['name'] + '_agent'\n",
    "    \n",
    "    if str(y)[7] == 'P':\n",
    "        y.label = 'pro_' + nary[term]['name'] + '_agent'"
   ]
  },
  {
   "cell_type": "code",
   "execution_count": 18,
   "metadata": {},
   "outputs": [],
   "source": [
    "#list of ids from the created classes in the two text formats\n",
    "\n",
    "ids = []\n",
    "ontoids = []\n",
    "for cl in list(onto.classes()):\n",
    "    cl = str(cl)\n",
    "    ontoids.append(cl)\n",
    "    clt = cl[5:7] +':' + cl[8:]\n",
    "    ids.append(clt)"
   ]
  },
  {
   "cell_type": "code",
   "execution_count": 19,
   "metadata": {},
   "outputs": [],
   "source": [
    "#propertymaker function for making properties\n",
    "\n",
    "def propertymaker(pname, pdomain, prange):\n",
    "    with onto:\n",
    "            classname = types.new_class((pname), (ObjectProperty,), )\n",
    "    return 0"
   ]
  },
  {
   "cell_type": "code",
   "execution_count": 20,
   "metadata": {},
   "outputs": [],
   "source": [
    "#parsing biological process and molecular function classes\n",
    "\n",
    "reldict = {}\n",
    "\n",
    "for key, value in kilnary.items():            \n",
    "    for item in value['children']:\n",
    "        if reldict.get(item['relation']) == None:\n",
    "            reldict[item['relation']] = [[],[]]\n",
    "            propertymaker(item['relation'], 'void', 'void')\n",
    "    for item in value['children']:\n",
    "        if item['id'] in ids:\n",
    "            reldict[item['relation']][1].append(ids[ids.index(value['id'])])\n",
    "            reldict[item['relation']][0].append(ids[ids.index(item['id'])])"
   ]
  },
  {
   "cell_type": "code",
   "execution_count": 21,
   "metadata": {},
   "outputs": [],
   "source": [
    "#converting string to class object in reldict lists\n",
    "\n",
    "for key, value in reldict.items():\n",
    "    for item in value[0]:\n",
    "        value[0][value[0].index(item)] = getattr(onto, item)\n",
    "    for item in value[1]:\n",
    "        value[1][value[1].index(item)] = getattr(onto, item)\n"
   ]
  },
  {
   "cell_type": "code",
   "execution_count": 22,
   "metadata": {},
   "outputs": [],
   "source": [
    "ded = {}\n",
    "\n",
    "for key, value in reldict.items():\n",
    "    for item in value[0]:\n",
    "        ded[value[0][value[0].index(item)]] = {}\n",
    "        ded[value[0][value[0].index(item)]][key] = []"
   ]
  },
  {
   "cell_type": "code",
   "execution_count": 23,
   "metadata": {},
   "outputs": [],
   "source": [
    "for key, value in reldict.items():\n",
    "    for item in value[0]:\n",
    "        if ded[value[0][value[0].index(item)]].get(key) != None:\n",
    "            ded[value[0][value[0].index(item)]][key].append(value[1][value[0].index(item)])"
   ]
  },
  {
   "cell_type": "code",
   "execution_count": 24,
   "metadata": {},
   "outputs": [],
   "source": [
    "#listing positively_regulates and negatively_regulates as subproperties\n",
    "\n",
    "with onto:\n",
    "    class positively_regulates(onto.regulates):\n",
    "        pass\n",
    "    class negatively_regulates(onto.regulates):\n",
    "        pass"
   ]
  },
  {
   "cell_type": "code",
   "execution_count": 25,
   "metadata": {},
   "outputs": [],
   "source": [
    "#setting relations\n",
    "\n",
    "for key, value in ded.items():\n",
    "    for key2, value2 in value.items():\n",
    "        \n",
    "        setattr(key, key2, value2)"
   ]
  },
  {
   "cell_type": "code",
   "execution_count": 26,
   "metadata": {},
   "outputs": [],
   "source": [
    "onto.save(file = \"testowl4\", format = \"rdfxml\")"
   ]
  }
 ],
 "metadata": {
  "kernelspec": {
   "display_name": "Python 3",
   "language": "python",
   "name": "python3"
  },
  "language_info": {
   "codemirror_mode": {
    "name": "ipython",
    "version": 3
   },
   "file_extension": ".py",
   "mimetype": "text/x-python",
   "name": "python",
   "nbconvert_exporter": "python",
   "pygments_lexer": "ipython3",
   "version": "3.6.8"
  }
 },
 "nbformat": 4,
 "nbformat_minor": 2
}
