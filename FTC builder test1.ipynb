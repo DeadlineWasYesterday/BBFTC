{
 "cells": [
  {
   "cell_type": "code",
   "execution_count": 1,
   "metadata": {
    "scrolled": true
   },
   "outputs": [],
   "source": [
    "##Load metadata from file\n",
    "\n",
    "import ast\n",
    "\n",
    "d = {}\n",
    "nary = {}\n",
    "with open(\"test_case-8classes_2properties.txt\", 'r') as f:\n",
    "    for line in f:\n",
    "        d = (ast.literal_eval(line))\n",
    "        nary.update({d['id'] : d})"
   ]
  },
  {
   "cell_type": "code",
   "execution_count": 2,
   "metadata": {},
   "outputs": [],
   "source": [
    "#Filter terms that have children and aspect\n",
    "\n",
    "filnary = {}\n",
    "kilnary = {}\n",
    "nochild = {}\n",
    "\n",
    "for key, value in nary.items():\n",
    "    if value.get('children') != []:\n",
    "        filnary = ({'id' : value['id'], 'children' : value['children']})\n",
    "        kilnary.update({key : filnary})\n",
    "    else:\n",
    "        filnary = ({'id' : value['id'],})\n",
    "        nochild.update({key : filnary})"
   ]
  },
  {
   "cell_type": "code",
   "execution_count": 3,
   "metadata": {
    "scrolled": false
   },
   "outputs": [],
   "source": [
    "#get parents\n",
    "\n",
    "for key, value in kilnary.items():\n",
    "    for item in value['children']:\n",
    "        if nary[item['id']].get('parent') == None:\n",
    "            nary[item['id']]['parent'] = []\n",
    "            nary[item['id']]['parent'].append({'id' : key, 'relation' : item['relation']})\n",
    "        else:\n",
    "            nary[item['id']]['parent'].append({'id' : key, 'relation' : item['relation']})\n",
    "            \n",
    "for key, value in nary.items():\n",
    "    if value.get('parent') == None:\n",
    "        value['parent'] = []"
   ]
  },
  {
   "cell_type": "code",
   "execution_count": 4,
   "metadata": {
    "scrolled": true
   },
   "outputs": [
    {
     "name": "stderr",
     "output_type": "stream",
     "text": [
      "* Owlready2 * Warning: optimized Cython parser module 'owlready2_optimized' is not available, defaulting to slower Python implementation\n"
     ]
    }
   ],
   "source": [
    "#import owlready2\n",
    "\n",
    "import types\n",
    "from owlready2 import *\n",
    "onto = get_ontology(\"http://test.org/onto.owl\")"
   ]
  },
  {
   "cell_type": "code",
   "execution_count": 5,
   "metadata": {},
   "outputs": [],
   "source": [
    "#define core classes\n",
    "\n",
    "with onto:\n",
    "    class therapeutic_agent(Thing):\n",
    "        namespace = onto\n",
    "    class biological_process(Thing):\n",
    "        namespace = onto\n",
    "    class molecular_function(Thing):\n",
    "        namespace = onto\n",
    "    class drug(Thing):\n",
    "        namespace = onto"
   ]
  },
  {
   "cell_type": "code",
   "execution_count": 6,
   "metadata": {},
   "outputs": [],
   "source": [
    "def recursive_classmaker_down(term):\n",
    "    for item in nary[term]['children']:\n",
    "        with onto:\n",
    "            nc = types.new_class(item['id'], (getattr(onto, term),))\n",
    "        recursive_classmaker_down(item['id'])\n",
    "    return 0"
   ]
  },
  {
   "cell_type": "code",
   "execution_count": 7,
   "metadata": {
    "scrolled": true
   },
   "outputs": [],
   "source": [
    "#Using classmaker to make FTC classes\n",
    "\n",
    "for key, value in nary.items():\n",
    "    if value['parent'] == []:\n",
    "        with onto:\n",
    "            nc = types.new_class(key, (biological_process,))\n",
    "        for item in value['children']:\n",
    "            with onto:\n",
    "                nc = types.new_class(item['id'], (getattr(onto, key),))\n",
    "                recursive_classmaker_down(item['id'])\n",
    "        \n"
   ]
  },
  {
   "cell_type": "code",
   "execution_count": 8,
   "metadata": {},
   "outputs": [
    {
     "data": {
      "text/plain": [
       "[onto.therapeutic_agent,\n",
       " onto.biological_process,\n",
       " onto.molecular_function,\n",
       " onto.drug,\n",
       " onto.biological_cess,\n",
       " onto.behavior,\n",
       " onto.cell_adhesion,\n",
       " onto.biological_adhesion,\n",
       " onto.molecular_func,\n",
       " onto.binding,\n",
       " onto.acyl_binding,\n",
       " onto.alkene_binding,\n",
       " onto.something_binding,\n",
       " onto.ion_binding,\n",
       " onto.cation_binding,\n",
       " onto.anion_binding]"
      ]
     },
     "execution_count": 8,
     "metadata": {},
     "output_type": "execute_result"
    }
   ],
   "source": [
    "list(onto.classes())"
   ]
  },
  {
   "cell_type": "code",
   "execution_count": 9,
   "metadata": {},
   "outputs": [],
   "source": [
    "onto.save(file = \"t2test3\", format = \"rdfxml\")"
   ]
  }
 ],
 "metadata": {
  "kernelspec": {
   "display_name": "Python 3",
   "language": "python",
   "name": "python3"
  },
  "language_info": {
   "codemirror_mode": {
    "name": "ipython",
    "version": 3
   },
   "file_extension": ".py",
   "mimetype": "text/x-python",
   "name": "python",
   "nbconvert_exporter": "python",
   "pygments_lexer": "ipython3",
   "version": "3.6.8"
  }
 },
 "nbformat": 4,
 "nbformat_minor": 2
}
