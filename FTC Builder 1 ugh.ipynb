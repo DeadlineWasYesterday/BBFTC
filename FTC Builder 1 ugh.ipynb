{
 "cells": [
  {
   "cell_type": "code",
   "execution_count": 1,
   "metadata": {},
   "outputs": [],
   "source": [
    "##Load metadata from file\n",
    "\n",
    "import ast\n",
    "\n",
    "d = {}\n",
    "nary = {}\n",
    "with open(\"metadata_trial4.txt\", 'r') as f:\n",
    "    for line in f:\n",
    "        d = (ast.literal_eval(line))\n",
    "        nary.update({d['id'] : d})"
   ]
  },
  {
   "cell_type": "code",
   "execution_count": 2,
   "metadata": {},
   "outputs": [],
   "source": [
    "#Filter terms that have children and aspect\n",
    "\n",
    "filnary = {}\n",
    "kilnary = {}\n",
    "nochild = {}\n",
    "\n",
    "for key, value in nary.items():\n",
    "    if value.get('children') != None:\n",
    "        filnary = ({'id' : value['id'], 'name' : value['name'], 'aspect' : value['aspect'], \n",
    "                    'children' : value['children']})\n",
    "        kilnary.update({key : filnary})\n",
    "    else:\n",
    "        filnary = ({'id' : value['id'], 'name' : value['name'], 'aspect' : value['aspect']})\n",
    "        nochild.update({key : filnary})"
   ]
  },
  {
   "cell_type": "code",
   "execution_count": 3,
   "metadata": {},
   "outputs": [
    {
     "name": "stderr",
     "output_type": "stream",
     "text": [
      "* Owlready2 * Warning: optimized Cython parser module 'owlready2_optimized' is not available, defaulting to slower Python implementation\n"
     ]
    }
   ],
   "source": [
    "#import owlready2\n",
    "\n",
    "import types\n",
    "from owlready2 import *\n",
    "onto = get_ontology(\"http://test.org/onto.owl\")"
   ]
  },
  {
   "cell_type": "code",
   "execution_count": 4,
   "metadata": {},
   "outputs": [],
   "source": [
    "#define core classes\n",
    "\n",
    "with onto:\n",
    "    class therapeutic_agent(Thing):\n",
    "        namespace = onto\n",
    "    class biological_process(Thing):\n",
    "        namespace = onto\n",
    "    class molecular_function(Thing):\n",
    "        namespace = onto\n",
    "    class drug(Thing):\n",
    "        namespace = onto"
   ]
  },
  {
   "cell_type": "code",
   "execution_count": 5,
   "metadata": {},
   "outputs": [],
   "source": [
    "#classmaker function to make FTC classes\n",
    "\n",
    "def classmaker(term, parentclass):\n",
    "                classnameA = 'GOA' + str(term)\n",
    "                classnameP = 'GOP' + str(term)\n",
    "                with onto:\n",
    "                    classname = types.new_class(classnameA, (parentclass,))\n",
    "                    classname = types.new_class(classnameP, (parentclass,))\n",
    "                return 0"
   ]
  },
  {
   "cell_type": "code",
   "execution_count": 6,
   "metadata": {},
   "outputs": [
    {
     "name": "stdout",
     "output_type": "stream",
     "text": [
      "1522\n"
     ]
    }
   ],
   "source": [
    "#remove anything that's not a biological process or molecular function from kilnary\n",
    "\n",
    "c = 0\n",
    "keys = []\n",
    "for key, value in kilnary.items():\n",
    "    if value['aspect'] != 'biological_process' and value['aspect'] != 'molecular_function':\n",
    "        keys.append(key)\n",
    "        c+=1\n",
    "print(c)\n",
    "for i in keys:\n",
    "    del kilnary[i]"
   ]
  },
  {
   "cell_type": "code",
   "execution_count": 7,
   "metadata": {},
   "outputs": [],
   "source": [
    "#Using classmaker to make FTC classes\n",
    "\n",
    "for key, value in kilnary.items():\n",
    "    if value['aspect'] == 'biological_process':\n",
    "        for item in value['children']:\n",
    "            if item['relation'] == 'positively_regulates':\n",
    "                classmaker(str(item['id'][3:]), therapeutic_agent)\n",
    "            if item['relation'] == 'negatively_regulates':\n",
    "                classmaker(str(item['id'][3:]), therapeutic_agent)\n",
    "            if item['relation'] == 'regulates':\n",
    "                classmaker(str(item['id'][3:]), therapeutic_agent)\n",
    "    if value['aspect'] == 'molecular_function':\n",
    "        for item in value['children']:\n",
    "            if item['relation'] == 'positively_regulates':\n",
    "                classmaker(str(item['id'][3:]), therapeutic_agent)\n",
    "            if item['relation'] == 'negatively_regulates':\n",
    "                classmaker(str(item['id'][3:]), therapeutic_agent)\n",
    "            if item['relation'] == 'regulates':\n",
    "                classmaker(str(item['id'][3:]), therapeutic_agent)\n"
   ]
  },
  {
   "cell_type": "code",
   "execution_count": 8,
   "metadata": {
    "scrolled": true
   },
   "outputs": [
    {
     "name": "stdout",
     "output_type": "stream",
     "text": [
      "20749 23421 20250\n",
      "11161\n"
     ]
    }
   ],
   "source": [
    "#number of child classes linked by 'regulates'\n",
    "\n",
    "print(len(kilnary.items()), len(nochild.items()), len(list(onto.classes())))\n",
    "c=0\n",
    "l = []\n",
    "\n",
    "for key, value in kilnary.items():\n",
    "    for item in value['children']:\n",
    "        if item['relation'] == 'positively_regulates' or item['relation'] == 'negatively_regulates' or item['relation'] == 'regulates': \n",
    "            if value['aspect'] == 'biological_process' or value['aspect'] == 'molecular_function':\n",
    "                c+=1\n",
    "\n",
    "print(c)        "
   ]
  },
  {
   "cell_type": "code",
   "execution_count": 9,
   "metadata": {},
   "outputs": [],
   "source": [
    "#make bp and mf classes\n",
    "\n",
    "for key, value in nary.items():\n",
    "\n",
    "    if value.get('aspect') != None and value['aspect'] == 'biological_process':\n",
    "        with onto:\n",
    "            classname = types.new_class(key, (biological_process,))\n",
    "    if value.get('aspect') != None and value['aspect'] == 'molecular_function':\n",
    "        with onto:\n",
    "            classname = types.new_class(key, (molecular_function,))"
   ]
  },
  {
   "cell_type": "code",
   "execution_count": 8,
   "metadata": {},
   "outputs": [],
   "source": [
    "#assign appropriate labels to classes\n",
    "\n",
    "x = list(onto.classes())\n",
    "for y in x:\n",
    "    term = 'GO:' + str(y)[8:]\n",
    "    if str(y)[7] == ':':\n",
    "        y.label = nary[str(y)[5:]]['name']\n",
    "    if str(y)[7] == 'A':\n",
    "        y.label = 'anti_' + nary[term]['name'] + '_agent'\n",
    "    \n",
    "    if str(y)[7] == 'P':\n",
    "        y.label = 'pro_' + nary[term]['name'] + '_agent'"
   ]
  },
  {
   "cell_type": "code",
   "execution_count": 9,
   "metadata": {},
   "outputs": [],
   "source": [
    "#list of ids from the created classes in the two text formats\n",
    "\n",
    "ids = []\n",
    "ontoids = []\n",
    "for cl in list(onto.classes()):\n",
    "    cl = str(cl)\n",
    "    ontoids.append(cl)\n",
    "    clt = cl[5:7] +':' + cl[8:]\n",
    "    ids.append(clt)"
   ]
  },
  {
   "cell_type": "code",
   "execution_count": 10,
   "metadata": {},
   "outputs": [],
   "source": [
    "#propertymaker function for making properties\n",
    "\n",
    "def propertymaker(pname, pdomain, prange):\n",
    "    with onto:\n",
    "            classname = types.new_class((pname), (ObjectProperty,), )\n",
    "    return 0"
   ]
  },
  {
   "cell_type": "code",
   "execution_count": 11,
   "metadata": {},
   "outputs": [
    {
     "ename": "ValueError",
     "evalue": "'GO:0000012' is not in list",
     "output_type": "error",
     "traceback": [
      "\u001b[0;31m---------------------------------------------------------------------------\u001b[0m",
      "\u001b[0;31mValueError\u001b[0m                                Traceback (most recent call last)",
      "\u001b[0;32m<ipython-input-11-2f7c40392fe4>\u001b[0m in \u001b[0;36m<module>\u001b[0;34m\u001b[0m\n\u001b[1;32m     11\u001b[0m     \u001b[0;32mfor\u001b[0m \u001b[0mitem\u001b[0m \u001b[0;32min\u001b[0m \u001b[0mvalue\u001b[0m\u001b[0;34m[\u001b[0m\u001b[0;34m'children'\u001b[0m\u001b[0;34m]\u001b[0m\u001b[0;34m:\u001b[0m\u001b[0;34m\u001b[0m\u001b[0;34m\u001b[0m\u001b[0m\n\u001b[1;32m     12\u001b[0m         \u001b[0;32mif\u001b[0m \u001b[0mitem\u001b[0m\u001b[0;34m[\u001b[0m\u001b[0;34m'id'\u001b[0m\u001b[0;34m]\u001b[0m \u001b[0;32min\u001b[0m \u001b[0mids\u001b[0m\u001b[0;34m:\u001b[0m\u001b[0;34m\u001b[0m\u001b[0;34m\u001b[0m\u001b[0m\n\u001b[0;32m---> 13\u001b[0;31m             \u001b[0mreldict\u001b[0m\u001b[0;34m[\u001b[0m\u001b[0mitem\u001b[0m\u001b[0;34m[\u001b[0m\u001b[0;34m'relation'\u001b[0m\u001b[0;34m]\u001b[0m\u001b[0;34m]\u001b[0m\u001b[0;34m[\u001b[0m\u001b[0;36m1\u001b[0m\u001b[0;34m]\u001b[0m\u001b[0;34m.\u001b[0m\u001b[0mappend\u001b[0m\u001b[0;34m(\u001b[0m\u001b[0mids\u001b[0m\u001b[0;34m[\u001b[0m\u001b[0mids\u001b[0m\u001b[0;34m.\u001b[0m\u001b[0mindex\u001b[0m\u001b[0;34m(\u001b[0m\u001b[0mvalue\u001b[0m\u001b[0;34m[\u001b[0m\u001b[0;34m'id'\u001b[0m\u001b[0;34m]\u001b[0m\u001b[0;34m)\u001b[0m\u001b[0;34m]\u001b[0m\u001b[0;34m)\u001b[0m\u001b[0;34m\u001b[0m\u001b[0;34m\u001b[0m\u001b[0m\n\u001b[0m\u001b[1;32m     14\u001b[0m             \u001b[0mreldict\u001b[0m\u001b[0;34m[\u001b[0m\u001b[0mitem\u001b[0m\u001b[0;34m[\u001b[0m\u001b[0;34m'relation'\u001b[0m\u001b[0;34m]\u001b[0m\u001b[0;34m]\u001b[0m\u001b[0;34m[\u001b[0m\u001b[0;36m0\u001b[0m\u001b[0;34m]\u001b[0m\u001b[0;34m.\u001b[0m\u001b[0mappend\u001b[0m\u001b[0;34m(\u001b[0m\u001b[0mids\u001b[0m\u001b[0;34m[\u001b[0m\u001b[0mids\u001b[0m\u001b[0;34m.\u001b[0m\u001b[0mindex\u001b[0m\u001b[0;34m(\u001b[0m\u001b[0mitem\u001b[0m\u001b[0;34m[\u001b[0m\u001b[0;34m'id'\u001b[0m\u001b[0;34m]\u001b[0m\u001b[0;34m)\u001b[0m\u001b[0;34m]\u001b[0m\u001b[0;34m)\u001b[0m\u001b[0;34m\u001b[0m\u001b[0;34m\u001b[0m\u001b[0m\n\u001b[1;32m     15\u001b[0m \u001b[0;34m\u001b[0m\u001b[0m\n",
      "\u001b[0;31mValueError\u001b[0m: 'GO:0000012' is not in list"
     ]
    }
   ],
   "source": [
    "#parsing biological process and molecular function classes\n",
    "\n",
    "reldict = {}\n",
    "\n",
    "\n",
    "for key, value in kilnary.items():            \n",
    "    for item in value['children']:\n",
    "        if reldict.get(item['relation']) == None:\n",
    "            reldict[item['relation']] = [[],[]]\n",
    "            propertymaker(item['relation'], 'void', 'void')\n",
    "    for item in value['children']:\n",
    "        if item['id'] in ids:\n",
    "            reldict[item['relation']][1].append(ids[ids.index(value['id'])])\n",
    "            reldict[item['relation']][0].append(ids[ids.index(item['id'])])\n",
    "        "
   ]
  },
  {
   "cell_type": "code",
   "execution_count": 14,
   "metadata": {},
   "outputs": [
    {
     "data": {
      "text/plain": [
       "20749"
      ]
     },
     "execution_count": 14,
     "metadata": {},
     "output_type": "execute_result"
    }
   ],
   "source": [
    "len(list(kilnary.keys()))"
   ]
  },
  {
   "cell_type": "code",
   "execution_count": 12,
   "metadata": {},
   "outputs": [],
   "source": [
    "#listing positively_regulates and negatively_regulates as subproperties\n",
    "\n",
    "with onto:\n",
    "    class positively_regulates(onto.regulates):\n",
    "        pass\n",
    "    class negatively_regulates(onto.regulates):\n",
    "        pass"
   ]
  },
  {
   "cell_type": "code",
   "execution_count": 13,
   "metadata": {},
   "outputs": [],
   "source": [
    "#converting string to class object in reldict lists\n",
    "\n",
    "for key, value in reldict.items():\n",
    "    for item in value[0]:\n",
    "        value[0][value[0].index(item)] = getattr(onto, item)\n",
    "    for item in value[1]:\n",
    "        value[1][value[1].index(item)] = getattr(onto, item)\n"
   ]
  },
  {
   "cell_type": "code",
   "execution_count": 14,
   "metadata": {},
   "outputs": [
    {
     "ename": "NameError",
     "evalue": "name 'ded' is not defined",
     "output_type": "error",
     "traceback": [
      "\u001b[0;31m---------------------------------------------------------------------------\u001b[0m",
      "\u001b[0;31mNameError\u001b[0m                                 Traceback (most recent call last)",
      "\u001b[0;32m<ipython-input-14-0d585c85f9df>\u001b[0m in \u001b[0;36m<module>\u001b[0;34m\u001b[0m\n\u001b[1;32m      1\u001b[0m \u001b[0;31m#setting relations\u001b[0m\u001b[0;34m\u001b[0m\u001b[0;34m\u001b[0m\u001b[0;34m\u001b[0m\u001b[0m\n\u001b[1;32m      2\u001b[0m \u001b[0;34m\u001b[0m\u001b[0m\n\u001b[0;32m----> 3\u001b[0;31m \u001b[0;32mfor\u001b[0m \u001b[0mkey\u001b[0m\u001b[0;34m,\u001b[0m \u001b[0mvalue\u001b[0m \u001b[0;32min\u001b[0m \u001b[0mded\u001b[0m\u001b[0;34m.\u001b[0m\u001b[0mitems\u001b[0m\u001b[0;34m(\u001b[0m\u001b[0;34m)\u001b[0m\u001b[0;34m:\u001b[0m\u001b[0;34m\u001b[0m\u001b[0;34m\u001b[0m\u001b[0m\n\u001b[0m\u001b[1;32m      4\u001b[0m     \u001b[0msetattr\u001b[0m\u001b[0;34m(\u001b[0m\u001b[0mkey\u001b[0m\u001b[0;34m,\u001b[0m \u001b[0mstr\u001b[0m\u001b[0;34m(\u001b[0m\u001b[0mvalue\u001b[0m\u001b[0;34m[\u001b[0m\u001b[0;36m0\u001b[0m\u001b[0;34m]\u001b[0m\u001b[0;34m)\u001b[0m\u001b[0;34m[\u001b[0m\u001b[0;36m2\u001b[0m\u001b[0;34m:\u001b[0m\u001b[0;34m-\u001b[0m\u001b[0;36m2\u001b[0m\u001b[0;34m]\u001b[0m\u001b[0;34m,\u001b[0m \u001b[0mvalue\u001b[0m\u001b[0;34m[\u001b[0m\u001b[0;36m1\u001b[0m\u001b[0;34m]\u001b[0m\u001b[0;34m)\u001b[0m\u001b[0;34m\u001b[0m\u001b[0;34m\u001b[0m\u001b[0m\n",
      "\u001b[0;31mNameError\u001b[0m: name 'ded' is not defined"
     ]
    }
   ],
   "source": [
    "#setting relations\n",
    "\n",
    "for key, value in ded.items():\n",
    "    setattr(key, str(value[0])[2:-2], value[1])"
   ]
  },
  {
   "cell_type": "code",
   "execution_count": 15,
   "metadata": {
    "scrolled": true
   },
   "outputs": [],
   "source": [
    "#setting relations\n",
    "\n",
    "for key, value in reldict.items():\n",
    "    for item in value[0]:\n",
    "        setattr(item, key, [value[1][value[0].index(item)]])"
   ]
  },
  {
   "cell_type": "code",
   "execution_count": 16,
   "metadata": {},
   "outputs": [],
   "source": [
    "onto.save(file = \"testowl3\", format = \"rdfxml\")"
   ]
  }
 ],
 "metadata": {
  "kernelspec": {
   "display_name": "Python 3",
   "language": "python",
   "name": "python3"
  },
  "language_info": {
   "codemirror_mode": {
    "name": "ipython",
    "version": 3
   },
   "file_extension": ".py",
   "mimetype": "text/x-python",
   "name": "python",
   "nbconvert_exporter": "python",
   "pygments_lexer": "ipython3",
   "version": "3.6.8"
  }
 },
 "nbformat": 4,
 "nbformat_minor": 2
}
