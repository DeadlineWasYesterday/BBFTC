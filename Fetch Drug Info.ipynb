{
 "cells": [
  {
   "cell_type": "code",
   "execution_count": 1,
   "metadata": {},
   "outputs": [],
   "source": [
    "li = []\n",
    "out = []\n",
    "counter = 1\n",
    "template_url = \"http://aps.unmc.edu/AP/database/query_output.php?ID=\"\n",
    "while counter <  2635:\n",
    "    acc_number = str(counter).zfill(5)\n",
    "    query_url = template_url + acc_number\n",
    "    li.append(query_url)\n",
    "    counter+=1\n",
    "    "
   ]
  },
  {
   "cell_type": "code",
   "execution_count": 2,
   "metadata": {},
   "outputs": [],
   "source": [
    "from selenium import webdriver\n",
    "from selenium.common.exceptions import TimeoutException\n",
    "from selenium.webdriver.support.ui import WebDriverWait # available since 2.4.0\n",
    "from selenium.webdriver.support import expected_conditions as EC # available since 2.26.0\n",
    "\n",
    "# Create a new instance of the Firefox driver\n",
    "driver = webdriver.Firefox()\n",
    "\n",
    "# go to the google home page\n",
    "for url in li :\n",
    "    driver.get(url)\n",
    "\n",
    "# the page is ajaxy so the title is originally this:\n",
    "#print (driver.title)\n",
    "\n",
    "# find the element that's name attribute is q (the google search box)\n",
    "    frame = driver.find_element_by_tag_name(\"tbody\")\n",
    "\n",
    "\n",
    "\n",
    "    out.append(frame.text)\n",
    "\n",
    "\n",
    "\n",
    "driver.quit()\n"
   ]
  },
  {
   "cell_type": "code",
   "execution_count": 4,
   "metadata": {},
   "outputs": [],
   "source": [
    "for line in out:\n",
    "    with open(\"ADP 2634 DrugInfo.txt\", \"a\") as file2:\n",
    "        file2.write(line)\n",
    "        file2.write(\"\\n\")"
   ]
  }
 ],
 "metadata": {
  "kernelspec": {
   "display_name": "Python 3",
   "language": "python",
   "name": "python3"
  },
  "language_info": {
   "codemirror_mode": {
    "name": "ipython",
    "version": 3
   },
   "file_extension": ".py",
   "mimetype": "text/x-python",
   "name": "python",
   "nbconvert_exporter": "python",
   "pygments_lexer": "ipython3",
   "version": "3.6.8"
  }
 },
 "nbformat": 4,
 "nbformat_minor": 2
}
